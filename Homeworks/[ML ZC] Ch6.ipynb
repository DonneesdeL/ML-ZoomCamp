{
 "cells": [
  {
   "cell_type": "markdown",
   "metadata": {},
   "source": [
    "# `Machine Learning ZoomCamp`\n",
    "## `HW1_Chapter 3: Classification`\n",
    "\n",
    "### Aileah Gotladera\n",
    "-----------------------"
   ]
  },
  {
   "cell_type": "code",
   "execution_count": 33,
   "metadata": {
    "tags": []
   },
   "outputs": [],
   "source": [
    "# Imports\n",
    "from sklearn.tree import DecisionTreeRegressor, plot_tree\n",
    "from sklearn.model_selection import train_test_split\n",
    "from sklearn.feature_extraction import DictVectorizer\n",
    "from sklearn.ensemble import RandomForestRegressor\n",
    "from sklearn.metrics import mean_squared_error\n",
    "from matplotlib import pyplot as plt\n",
    "import numpy as np\n",
    "import pandas as pd\n",
    "import xgboost as xgb\n",
    "import os"
   ]
  },
  {
   "cell_type": "code",
   "execution_count": 34,
   "metadata": {
    "tags": []
   },
   "outputs": [
    {
     "data": {
      "text/html": [
       "<div>\n",
       "<style scoped>\n",
       "    .dataframe tbody tr th:only-of-type {\n",
       "        vertical-align: middle;\n",
       "    }\n",
       "\n",
       "    .dataframe tbody tr th {\n",
       "        vertical-align: top;\n",
       "    }\n",
       "\n",
       "    .dataframe thead th {\n",
       "        text-align: right;\n",
       "    }\n",
       "</style>\n",
       "<table border=\"1\" class=\"dataframe\">\n",
       "  <thead>\n",
       "    <tr style=\"text-align: right;\">\n",
       "      <th></th>\n",
       "      <th>longitude</th>\n",
       "      <th>latitude</th>\n",
       "      <th>housing_median_age</th>\n",
       "      <th>total_rooms</th>\n",
       "      <th>total_bedrooms</th>\n",
       "      <th>population</th>\n",
       "      <th>households</th>\n",
       "      <th>median_income</th>\n",
       "      <th>median_house_value</th>\n",
       "      <th>ocean_proximity</th>\n",
       "    </tr>\n",
       "  </thead>\n",
       "  <tbody>\n",
       "    <tr>\n",
       "      <th>0</th>\n",
       "      <td>-122.23</td>\n",
       "      <td>37.88</td>\n",
       "      <td>41.0</td>\n",
       "      <td>880.0</td>\n",
       "      <td>129.0</td>\n",
       "      <td>322.0</td>\n",
       "      <td>126.0</td>\n",
       "      <td>8.3252</td>\n",
       "      <td>452600.0</td>\n",
       "      <td>NEAR BAY</td>\n",
       "    </tr>\n",
       "    <tr>\n",
       "      <th>1</th>\n",
       "      <td>-122.22</td>\n",
       "      <td>37.86</td>\n",
       "      <td>21.0</td>\n",
       "      <td>7099.0</td>\n",
       "      <td>1106.0</td>\n",
       "      <td>2401.0</td>\n",
       "      <td>1138.0</td>\n",
       "      <td>8.3014</td>\n",
       "      <td>358500.0</td>\n",
       "      <td>NEAR BAY</td>\n",
       "    </tr>\n",
       "    <tr>\n",
       "      <th>2</th>\n",
       "      <td>-122.24</td>\n",
       "      <td>37.85</td>\n",
       "      <td>52.0</td>\n",
       "      <td>1467.0</td>\n",
       "      <td>190.0</td>\n",
       "      <td>496.0</td>\n",
       "      <td>177.0</td>\n",
       "      <td>7.2574</td>\n",
       "      <td>352100.0</td>\n",
       "      <td>NEAR BAY</td>\n",
       "    </tr>\n",
       "    <tr>\n",
       "      <th>3</th>\n",
       "      <td>-122.25</td>\n",
       "      <td>37.85</td>\n",
       "      <td>52.0</td>\n",
       "      <td>1274.0</td>\n",
       "      <td>235.0</td>\n",
       "      <td>558.0</td>\n",
       "      <td>219.0</td>\n",
       "      <td>5.6431</td>\n",
       "      <td>341300.0</td>\n",
       "      <td>NEAR BAY</td>\n",
       "    </tr>\n",
       "    <tr>\n",
       "      <th>4</th>\n",
       "      <td>-122.25</td>\n",
       "      <td>37.85</td>\n",
       "      <td>52.0</td>\n",
       "      <td>1627.0</td>\n",
       "      <td>280.0</td>\n",
       "      <td>565.0</td>\n",
       "      <td>259.0</td>\n",
       "      <td>3.8462</td>\n",
       "      <td>342200.0</td>\n",
       "      <td>NEAR BAY</td>\n",
       "    </tr>\n",
       "  </tbody>\n",
       "</table>\n",
       "</div>"
      ],
      "text/plain": [
       "   longitude  latitude  housing_median_age  total_rooms  total_bedrooms  \\\n",
       "0    -122.23     37.88                41.0        880.0           129.0   \n",
       "1    -122.22     37.86                21.0       7099.0          1106.0   \n",
       "2    -122.24     37.85                52.0       1467.0           190.0   \n",
       "3    -122.25     37.85                52.0       1274.0           235.0   \n",
       "4    -122.25     37.85                52.0       1627.0           280.0   \n",
       "\n",
       "   population  households  median_income  median_house_value ocean_proximity  \n",
       "0       322.0       126.0         8.3252            452600.0        NEAR BAY  \n",
       "1      2401.0      1138.0         8.3014            358500.0        NEAR BAY  \n",
       "2       496.0       177.0         7.2574            352100.0        NEAR BAY  \n",
       "3       558.0       219.0         5.6431            341300.0        NEAR BAY  \n",
       "4       565.0       259.0         3.8462            342200.0        NEAR BAY  "
      ]
     },
     "execution_count": 34,
     "metadata": {},
     "output_type": "execute_result"
    }
   ],
   "source": [
    "# Loading the data\n",
    "file = 'Data/house_data.csv'\n",
    "data = pd.read_csv(file)\n",
    "data.head()"
   ]
  },
  {
   "cell_type": "markdown",
   "metadata": {},
   "source": [
    "### **Data Preparation and Data Cleaning**"
   ]
  },
  {
   "cell_type": "code",
   "execution_count": 35,
   "metadata": {
    "tags": []
   },
   "outputs": [
    {
     "data": {
      "text/html": [
       "<div>\n",
       "<style scoped>\n",
       "    .dataframe tbody tr th:only-of-type {\n",
       "        vertical-align: middle;\n",
       "    }\n",
       "\n",
       "    .dataframe tbody tr th {\n",
       "        vertical-align: top;\n",
       "    }\n",
       "\n",
       "    .dataframe thead th {\n",
       "        text-align: right;\n",
       "    }\n",
       "</style>\n",
       "<table border=\"1\" class=\"dataframe\">\n",
       "  <thead>\n",
       "    <tr style=\"text-align: right;\">\n",
       "      <th></th>\n",
       "      <th>index</th>\n",
       "      <th>longitude</th>\n",
       "      <th>latitude</th>\n",
       "      <th>housing_median_age</th>\n",
       "      <th>total_rooms</th>\n",
       "      <th>total_bedrooms</th>\n",
       "      <th>population</th>\n",
       "      <th>households</th>\n",
       "      <th>median_income</th>\n",
       "      <th>median_house_value</th>\n",
       "      <th>ocean_proximity</th>\n",
       "    </tr>\n",
       "  </thead>\n",
       "  <tbody>\n",
       "    <tr>\n",
       "      <th>0</th>\n",
       "      <td>701</td>\n",
       "      <td>-121.97</td>\n",
       "      <td>37.64</td>\n",
       "      <td>32.0</td>\n",
       "      <td>1283.0</td>\n",
       "      <td>194.0</td>\n",
       "      <td>485.0</td>\n",
       "      <td>171.0</td>\n",
       "      <td>6.0574</td>\n",
       "      <td>431000.0</td>\n",
       "      <td>&lt;1H OCEAN</td>\n",
       "    </tr>\n",
       "    <tr>\n",
       "      <th>1</th>\n",
       "      <td>830</td>\n",
       "      <td>-121.99</td>\n",
       "      <td>37.61</td>\n",
       "      <td>9.0</td>\n",
       "      <td>3666.0</td>\n",
       "      <td>711.0</td>\n",
       "      <td>2341.0</td>\n",
       "      <td>703.0</td>\n",
       "      <td>4.6458</td>\n",
       "      <td>217000.0</td>\n",
       "      <td>&lt;1H OCEAN</td>\n",
       "    </tr>\n",
       "    <tr>\n",
       "      <th>2</th>\n",
       "      <td>859</td>\n",
       "      <td>-121.97</td>\n",
       "      <td>37.57</td>\n",
       "      <td>21.0</td>\n",
       "      <td>4342.0</td>\n",
       "      <td>783.0</td>\n",
       "      <td>2172.0</td>\n",
       "      <td>789.0</td>\n",
       "      <td>4.6146</td>\n",
       "      <td>247600.0</td>\n",
       "      <td>&lt;1H OCEAN</td>\n",
       "    </tr>\n",
       "    <tr>\n",
       "      <th>3</th>\n",
       "      <td>860</td>\n",
       "      <td>-121.96</td>\n",
       "      <td>37.58</td>\n",
       "      <td>15.0</td>\n",
       "      <td>3575.0</td>\n",
       "      <td>597.0</td>\n",
       "      <td>1777.0</td>\n",
       "      <td>559.0</td>\n",
       "      <td>5.7192</td>\n",
       "      <td>283500.0</td>\n",
       "      <td>&lt;1H OCEAN</td>\n",
       "    </tr>\n",
       "    <tr>\n",
       "      <th>4</th>\n",
       "      <td>861</td>\n",
       "      <td>-121.98</td>\n",
       "      <td>37.58</td>\n",
       "      <td>20.0</td>\n",
       "      <td>4126.0</td>\n",
       "      <td>1031.0</td>\n",
       "      <td>2079.0</td>\n",
       "      <td>975.0</td>\n",
       "      <td>3.6832</td>\n",
       "      <td>216900.0</td>\n",
       "      <td>&lt;1H OCEAN</td>\n",
       "    </tr>\n",
       "  </tbody>\n",
       "</table>\n",
       "</div>"
      ],
      "text/plain": [
       "   index  longitude  latitude  housing_median_age  total_rooms  \\\n",
       "0    701    -121.97     37.64                32.0       1283.0   \n",
       "1    830    -121.99     37.61                 9.0       3666.0   \n",
       "2    859    -121.97     37.57                21.0       4342.0   \n",
       "3    860    -121.96     37.58                15.0       3575.0   \n",
       "4    861    -121.98     37.58                20.0       4126.0   \n",
       "\n",
       "   total_bedrooms  population  households  median_income  median_house_value  \\\n",
       "0           194.0       485.0       171.0         6.0574            431000.0   \n",
       "1           711.0      2341.0       703.0         4.6458            217000.0   \n",
       "2           783.0      2172.0       789.0         4.6146            247600.0   \n",
       "3           597.0      1777.0       559.0         5.7192            283500.0   \n",
       "4          1031.0      2079.0       975.0         3.6832            216900.0   \n",
       "\n",
       "  ocean_proximity  \n",
       "0       <1H OCEAN  \n",
       "1       <1H OCEAN  \n",
       "2       <1H OCEAN  \n",
       "3       <1H OCEAN  \n",
       "4       <1H OCEAN  "
      ]
     },
     "execution_count": 35,
     "metadata": {},
     "output_type": "execute_result"
    }
   ],
   "source": [
    "data = data[data['ocean_proximity'].isin(['<1H OCEAN', 'INLAND'])].reset_index()\n",
    "data.head()"
   ]
  },
  {
   "cell_type": "code",
   "execution_count": 36,
   "metadata": {
    "tags": []
   },
   "outputs": [
    {
     "data": {
      "text/plain": [
       "index                   0\n",
       "longitude               0\n",
       "latitude                0\n",
       "housing_median_age      0\n",
       "total_rooms             0\n",
       "total_bedrooms        157\n",
       "population              0\n",
       "households              0\n",
       "median_income           0\n",
       "median_house_value      0\n",
       "ocean_proximity         0\n",
       "dtype: int64"
      ]
     },
     "execution_count": 36,
     "metadata": {},
     "output_type": "execute_result"
    }
   ],
   "source": [
    "# Checking null values.\n",
    "data.isnull().sum()"
   ]
  },
  {
   "cell_type": "code",
   "execution_count": 37,
   "metadata": {
    "tags": []
   },
   "outputs": [
    {
     "data": {
      "text/plain": [
       "index                 0\n",
       "longitude             0\n",
       "latitude              0\n",
       "housing_median_age    0\n",
       "total_rooms           0\n",
       "total_bedrooms        0\n",
       "population            0\n",
       "households            0\n",
       "median_income         0\n",
       "median_house_value    0\n",
       "ocean_proximity       0\n",
       "dtype: int64"
      ]
     },
     "execution_count": 37,
     "metadata": {},
     "output_type": "execute_result"
    }
   ],
   "source": [
    "# Replacing null values with 0\n",
    "data = data.fillna(0)\n",
    "data.isnull().sum()"
   ]
  },
  {
   "cell_type": "code",
   "execution_count": 38,
   "metadata": {
    "tags": []
   },
   "outputs": [],
   "source": [
    "# Apply the log transform to median_house_value.\n",
    "data.median_house_value = data.median_house_value.apply(np.log1p)"
   ]
  },
  {
   "cell_type": "code",
   "execution_count": 39,
   "metadata": {
    "tags": []
   },
   "outputs": [],
   "source": [
    "# Fetaure and target values\n",
    "X = data.drop([\"median_house_value\"], axis=1)\n",
    "y = data[\"median_house_value\"]"
   ]
  },
  {
   "cell_type": "code",
   "execution_count": 40,
   "metadata": {
    "tags": []
   },
   "outputs": [],
   "source": [
    "# Do train/validation/test split with 60%/20%/20% distribution.\n",
    "# Use the train_test_split function and set the random_state parameter to 1.\n",
    "X_train_full, X_test, y_train_full, y_test = train_test_split(X, y, test_size=0.2, random_state=1)\n",
    "X_train, X_val, y_train, y_val = train_test_split(X_train_full, y_train_full, test_size=0.25, random_state=1)"
   ]
  },
  {
   "cell_type": "code",
   "execution_count": 41,
   "metadata": {
    "tags": []
   },
   "outputs": [],
   "source": [
    "# Use DictVectorizer(sparse=True) to turn the dataframes into matrices.\n",
    "dv = DictVectorizer(sparse=True)\n",
    "X_train_matrix = dv.fit_transform(X_train.to_dict(orient=\"records\"))\n",
    "X_val_matrix = dv.transform(X_val.to_dict(orient=\"records\"))"
   ]
  },
  {
   "cell_type": "markdown",
   "metadata": {},
   "source": [
    "## **`Q1`**\n",
    "Train a decision tree regressor to predict the median_house_value variable.\n",
    "<br>Train a model with max_depth=1.\n",
    "* Which feature is used for splitting the data?"
   ]
  },
  {
   "cell_type": "code",
   "execution_count": 42,
   "metadata": {
    "tags": []
   },
   "outputs": [],
   "source": [
    "dt = DecisionTreeRegressor(max_depth=1)"
   ]
  },
  {
   "cell_type": "code",
   "execution_count": 43,
   "metadata": {
    "tags": []
   },
   "outputs": [
    {
     "data": {
      "text/html": [
       "<style>#sk-container-id-3 {color: black;background-color: white;}#sk-container-id-3 pre{padding: 0;}#sk-container-id-3 div.sk-toggleable {background-color: white;}#sk-container-id-3 label.sk-toggleable__label {cursor: pointer;display: block;width: 100%;margin-bottom: 0;padding: 0.3em;box-sizing: border-box;text-align: center;}#sk-container-id-3 label.sk-toggleable__label-arrow:before {content: \"▸\";float: left;margin-right: 0.25em;color: #696969;}#sk-container-id-3 label.sk-toggleable__label-arrow:hover:before {color: black;}#sk-container-id-3 div.sk-estimator:hover label.sk-toggleable__label-arrow:before {color: black;}#sk-container-id-3 div.sk-toggleable__content {max-height: 0;max-width: 0;overflow: hidden;text-align: left;background-color: #f0f8ff;}#sk-container-id-3 div.sk-toggleable__content pre {margin: 0.2em;color: black;border-radius: 0.25em;background-color: #f0f8ff;}#sk-container-id-3 input.sk-toggleable__control:checked~div.sk-toggleable__content {max-height: 200px;max-width: 100%;overflow: auto;}#sk-container-id-3 input.sk-toggleable__control:checked~label.sk-toggleable__label-arrow:before {content: \"▾\";}#sk-container-id-3 div.sk-estimator input.sk-toggleable__control:checked~label.sk-toggleable__label {background-color: #d4ebff;}#sk-container-id-3 div.sk-label input.sk-toggleable__control:checked~label.sk-toggleable__label {background-color: #d4ebff;}#sk-container-id-3 input.sk-hidden--visually {border: 0;clip: rect(1px 1px 1px 1px);clip: rect(1px, 1px, 1px, 1px);height: 1px;margin: -1px;overflow: hidden;padding: 0;position: absolute;width: 1px;}#sk-container-id-3 div.sk-estimator {font-family: monospace;background-color: #f0f8ff;border: 1px dotted black;border-radius: 0.25em;box-sizing: border-box;margin-bottom: 0.5em;}#sk-container-id-3 div.sk-estimator:hover {background-color: #d4ebff;}#sk-container-id-3 div.sk-parallel-item::after {content: \"\";width: 100%;border-bottom: 1px solid gray;flex-grow: 1;}#sk-container-id-3 div.sk-label:hover label.sk-toggleable__label {background-color: #d4ebff;}#sk-container-id-3 div.sk-serial::before {content: \"\";position: absolute;border-left: 1px solid gray;box-sizing: border-box;top: 0;bottom: 0;left: 50%;z-index: 0;}#sk-container-id-3 div.sk-serial {display: flex;flex-direction: column;align-items: center;background-color: white;padding-right: 0.2em;padding-left: 0.2em;position: relative;}#sk-container-id-3 div.sk-item {position: relative;z-index: 1;}#sk-container-id-3 div.sk-parallel {display: flex;align-items: stretch;justify-content: center;background-color: white;position: relative;}#sk-container-id-3 div.sk-item::before, #sk-container-id-3 div.sk-parallel-item::before {content: \"\";position: absolute;border-left: 1px solid gray;box-sizing: border-box;top: 0;bottom: 0;left: 50%;z-index: -1;}#sk-container-id-3 div.sk-parallel-item {display: flex;flex-direction: column;z-index: 1;position: relative;background-color: white;}#sk-container-id-3 div.sk-parallel-item:first-child::after {align-self: flex-end;width: 50%;}#sk-container-id-3 div.sk-parallel-item:last-child::after {align-self: flex-start;width: 50%;}#sk-container-id-3 div.sk-parallel-item:only-child::after {width: 0;}#sk-container-id-3 div.sk-dashed-wrapped {border: 1px dashed gray;margin: 0 0.4em 0.5em 0.4em;box-sizing: border-box;padding-bottom: 0.4em;background-color: white;}#sk-container-id-3 div.sk-label label {font-family: monospace;font-weight: bold;display: inline-block;line-height: 1.2em;}#sk-container-id-3 div.sk-label-container {text-align: center;}#sk-container-id-3 div.sk-container {/* jupyter's `normalize.less` sets `[hidden] { display: none; }` but bootstrap.min.css set `[hidden] { display: none !important; }` so we also need the `!important` here to be able to override the default hidden behavior on the sphinx rendered scikit-learn.org. See: https://github.com/scikit-learn/scikit-learn/issues/21755 */display: inline-block !important;position: relative;}#sk-container-id-3 div.sk-text-repr-fallback {display: none;}</style><div id=\"sk-container-id-3\" class=\"sk-top-container\"><div class=\"sk-text-repr-fallback\"><pre>DecisionTreeRegressor(max_depth=1)</pre><b>In a Jupyter environment, please rerun this cell to show the HTML representation or trust the notebook. <br />On GitHub, the HTML representation is unable to render, please try loading this page with nbviewer.org.</b></div><div class=\"sk-container\" hidden><div class=\"sk-item\"><div class=\"sk-estimator sk-toggleable\"><input class=\"sk-toggleable__control sk-hidden--visually\" id=\"sk-estimator-id-3\" type=\"checkbox\" checked><label for=\"sk-estimator-id-3\" class=\"sk-toggleable__label sk-toggleable__label-arrow\">DecisionTreeRegressor</label><div class=\"sk-toggleable__content\"><pre>DecisionTreeRegressor(max_depth=1)</pre></div></div></div></div></div>"
      ],
      "text/plain": [
       "DecisionTreeRegressor(max_depth=1)"
      ]
     },
     "execution_count": 43,
     "metadata": {},
     "output_type": "execute_result"
    }
   ],
   "source": [
    "dt.fit(X_train_matrix, y_train)"
   ]
  },
  {
   "cell_type": "code",
   "execution_count": 44,
   "metadata": {
    "tags": []
   },
   "outputs": [],
   "source": [
    "feature_names = dv.get_feature_names_out()"
   ]
  },
  {
   "cell_type": "code",
   "execution_count": 45,
   "metadata": {
    "tags": []
   },
   "outputs": [
    {
     "data": {
      "image/png": "[encoded data removed]",
      "text/plain": [
       "<Figure size 500x500 with 1 Axes>"
      ]
     },
     "metadata": {},
     "output_type": "display_data"
    }
   ],
   "source": [
    "plt.figure(figsize=(5,5))\n",
    "plot_tree(dt, filled=True, feature_names=feature_names.tolist(), rounded=True)\n",
    "plt.show()"
   ]
  },
  {
   "cell_type": "code",
   "execution_count": 46,
   "metadata": {
    "tags": []
   },
   "outputs": [
    {
     "name": "stdout",
     "output_type": "stream",
     "text": [
      "Q1 Answer: ocean_proximity\n"
     ]
    }
   ],
   "source": [
    "print('Q1 Answer: ocean_proximity')"
   ]
  },
  {
   "cell_type": "markdown",
   "metadata": {},
   "source": [
    "## **`Q2`**\n",
    "Train a random forest model with these parameters:\n",
    "- n_estimators=10\n",
    "- random_state=1\n",
    "- n_jobs=-1 (optional - to make training faster)\n",
    "\n",
    "What's the RMSE of this model on validation?"
   ]
  },
  {
   "cell_type": "code",
   "execution_count": 47,
   "metadata": {
    "tags": []
   },
   "outputs": [],
   "source": [
    "rand_f = RandomForestRegressor(n_estimators=10, random_state=1, n_jobs=-1)\n",
    "rand_f.fit(X_train_matrix, y_train)\n",
    "pred = rand_f.predict(X_val_matrix)\n",
    "rmse = mean_squared_error(y_val, pred, squared=False)"
   ]
  },
  {
   "cell_type": "code",
   "execution_count": 48,
   "metadata": {
    "tags": []
   },
   "outputs": [
    {
     "name": "stdout",
     "output_type": "stream",
     "text": [
      "Q2 ANswer: 0.23609715410821808\n"
     ]
    }
   ],
   "source": [
    "print(f'Q2 ANswer: {rmse}')"
   ]
  },
  {
   "cell_type": "markdown",
   "metadata": {},
   "source": [
    "## **`Q3`**\n",
    "Now, experiment with the n_estimators parameter\n",
    "- Try different values of this parameter from 10 to 200 with step 10.\n",
    "- Set random_state to 1.\n",
    "- Evaluate the model on the validation dataset.\n",
    "\n",
    "After which value of `n_estimators` does RMSE stop improving? Consider 3 decimal places for retrieving the answer."
   ]
  },
  {
   "cell_type": "code",
   "execution_count": 50,
   "metadata": {
    "tags": []
   },
   "outputs": [
    {
     "name": "stdout",
     "output_type": "stream",
     "text": [
      "n_estimators= 10 rmse= 0.236\n",
      "n_estimators= 20 rmse= 0.232\n",
      "n_estimators= 30 rmse= 0.229\n",
      "n_estimators= 40 rmse= 0.228\n",
      "n_estimators= 50 rmse= 0.228\n",
      "n_estimators= 60 rmse= 0.228\n",
      "n_estimators= 70 rmse= 0.227\n",
      "n_estimators= 80 rmse= 0.227\n",
      "n_estimators= 90 rmse= 0.227\n",
      "n_estimators= 100 rmse= 0.227\n",
      "n_estimators= 110 rmse= 0.226\n",
      "n_estimators= 120 rmse= 0.226\n",
      "n_estimators= 130 rmse= 0.226\n",
      "n_estimators= 140 rmse= 0.226\n",
      "n_estimators= 150 rmse= 0.226\n",
      "n_estimators= 160 rmse= 0.226\n",
      "n_estimators= 170 rmse= 0.226\n",
      "n_estimators= 180 rmse= 0.226\n",
      "n_estimators= 190 rmse= 0.226\n"
     ]
    }
   ],
   "source": [
    "for n in range(10, 200, 10):\n",
    "    rand_f = RandomForestRegressor(n_estimators=n, random_state=1, n_jobs=-1)\n",
    "    rand_f.fit(X_train_matrix, y_train)\n",
    "    pred = rand_f.predict(X_val_matrix)\n",
    "    print(\"n_estimators=\", n, \"rmse=\", round(mean_squared_error(y_val, pred, squared=False), 3))"
   ]
  },
  {
   "cell_type": "code",
   "execution_count": 52,
   "metadata": {
    "tags": []
   },
   "outputs": [
    {
     "name": "stdout",
     "output_type": "stream",
     "text": [
      "Q2 Answer: 50\n"
     ]
    }
   ],
   "source": [
    "print('Q2 Answer: 50')"
   ]
  },
  {
   "cell_type": "markdown",
   "metadata": {},
   "source": [
    "## **`Q4`**\n",
    "Select the best max_depth:\n",
    "- Try different values of max_depth: [10, 15, 20, 25]\n",
    "- For each of these values,\n",
    "  - try different values of n_estimators from 10 till 200 (with step 10)\n",
    "  - calculate the mean RMSE\n",
    "- Fix the random seed: random_state=1\n",
    "What's the best `max_depth`, using the mean RMSE?"
   ]
  },
  {
   "cell_type": "code",
   "execution_count": 54,
   "metadata": {
    "tags": []
   },
   "outputs": [
    {
     "name": "stdout",
     "output_type": "stream",
     "text": [
      "max_depth= 10 rmse= 0.24600000000000008\n",
      "max_depth= 15 rmse= 0.23599999999999996\n",
      "max_depth= 20 rmse= 0.232\n",
      "max_depth= 25 rmse= 0.23000000000000007\n"
     ]
    }
   ],
   "source": [
    "for n in [10, 15, 20, 25]:\n",
    "    score = []\n",
    "    for m in np.arange(10, 200, 10):\n",
    "        rand_f = RandomForestRegressor(n_estimators=n, max_depth=n, random_state=1, n_jobs=-1)\n",
    "        rand_f.fit(X_train_matrix, y_train)\n",
    "        pred = rand_f.predict(X_val_matrix)\n",
    "        score.append(round(mean_squared_error(y_val, pred, squared=False), 3))\n",
    "    print(\"max_depth=\", n, \"rmse=\", np.mean(score))"
   ]
  },
  {
   "cell_type": "code",
   "execution_count": 55,
   "metadata": {
    "tags": []
   },
   "outputs": [
    {
     "name": "stdout",
     "output_type": "stream",
     "text": [
      "Q4 Answer: 25\n"
     ]
    }
   ],
   "source": [
    "print('Q4 Answer: 25')"
   ]
  },
  {
   "cell_type": "markdown",
   "metadata": {},
   "source": [
    "## **`Q5`**\n",
    "- Train the model with these parameters:\n",
    "    - n_estimators=10,\n",
    "    - max_depth=20,\n",
    "    - random_state=1,\n",
    "    - n_jobs=-1 (optional)\n",
    "- Get the feature importance information from this model\n",
    "\n",
    "What's the most important feature (among these 4)?"
   ]
  },
  {
   "cell_type": "code",
   "execution_count": 56,
   "metadata": {
    "tags": []
   },
   "outputs": [
    {
     "data": {
      "text/html": [
       "<style>#sk-container-id-4 {color: black;background-color: white;}#sk-container-id-4 pre{padding: 0;}#sk-container-id-4 div.sk-toggleable {background-color: white;}#sk-container-id-4 label.sk-toggleable__label {cursor: pointer;display: block;width: 100%;margin-bottom: 0;padding: 0.3em;box-sizing: border-box;text-align: center;}#sk-container-id-4 label.sk-toggleable__label-arrow:before {content: \"▸\";float: left;margin-right: 0.25em;color: #696969;}#sk-container-id-4 label.sk-toggleable__label-arrow:hover:before {color: black;}#sk-container-id-4 div.sk-estimator:hover label.sk-toggleable__label-arrow:before {color: black;}#sk-container-id-4 div.sk-toggleable__content {max-height: 0;max-width: 0;overflow: hidden;text-align: left;background-color: #f0f8ff;}#sk-container-id-4 div.sk-toggleable__content pre {margin: 0.2em;color: black;border-radius: 0.25em;background-color: #f0f8ff;}#sk-container-id-4 input.sk-toggleable__control:checked~div.sk-toggleable__content {max-height: 200px;max-width: 100%;overflow: auto;}#sk-container-id-4 input.sk-toggleable__control:checked~label.sk-toggleable__label-arrow:before {content: \"▾\";}#sk-container-id-4 div.sk-estimator input.sk-toggleable__control:checked~label.sk-toggleable__label {background-color: #d4ebff;}#sk-container-id-4 div.sk-label input.sk-toggleable__control:checked~label.sk-toggleable__label {background-color: #d4ebff;}#sk-container-id-4 input.sk-hidden--visually {border: 0;clip: rect(1px 1px 1px 1px);clip: rect(1px, 1px, 1px, 1px);height: 1px;margin: -1px;overflow: hidden;padding: 0;position: absolute;width: 1px;}#sk-container-id-4 div.sk-estimator {font-family: monospace;background-color: #f0f8ff;border: 1px dotted black;border-radius: 0.25em;box-sizing: border-box;margin-bottom: 0.5em;}#sk-container-id-4 div.sk-estimator:hover {background-color: #d4ebff;}#sk-container-id-4 div.sk-parallel-item::after {content: \"\";width: 100%;border-bottom: 1px solid gray;flex-grow: 1;}#sk-container-id-4 div.sk-label:hover label.sk-toggleable__label {background-color: #d4ebff;}#sk-container-id-4 div.sk-serial::before {content: \"\";position: absolute;border-left: 1px solid gray;box-sizing: border-box;top: 0;bottom: 0;left: 50%;z-index: 0;}#sk-container-id-4 div.sk-serial {display: flex;flex-direction: column;align-items: center;background-color: white;padding-right: 0.2em;padding-left: 0.2em;position: relative;}#sk-container-id-4 div.sk-item {position: relative;z-index: 1;}#sk-container-id-4 div.sk-parallel {display: flex;align-items: stretch;justify-content: center;background-color: white;position: relative;}#sk-container-id-4 div.sk-item::before, #sk-container-id-4 div.sk-parallel-item::before {content: \"\";position: absolute;border-left: 1px solid gray;box-sizing: border-box;top: 0;bottom: 0;left: 50%;z-index: -1;}#sk-container-id-4 div.sk-parallel-item {display: flex;flex-direction: column;z-index: 1;position: relative;background-color: white;}#sk-container-id-4 div.sk-parallel-item:first-child::after {align-self: flex-end;width: 50%;}#sk-container-id-4 div.sk-parallel-item:last-child::after {align-self: flex-start;width: 50%;}#sk-container-id-4 div.sk-parallel-item:only-child::after {width: 0;}#sk-container-id-4 div.sk-dashed-wrapped {border: 1px dashed gray;margin: 0 0.4em 0.5em 0.4em;box-sizing: border-box;padding-bottom: 0.4em;background-color: white;}#sk-container-id-4 div.sk-label label {font-family: monospace;font-weight: bold;display: inline-block;line-height: 1.2em;}#sk-container-id-4 div.sk-label-container {text-align: center;}#sk-container-id-4 div.sk-container {/* jupyter's `normalize.less` sets `[hidden] { display: none; }` but bootstrap.min.css set `[hidden] { display: none !important; }` so we also need the `!important` here to be able to override the default hidden behavior on the sphinx rendered scikit-learn.org. See: https://github.com/scikit-learn/scikit-learn/issues/21755 */display: inline-block !important;position: relative;}#sk-container-id-4 div.sk-text-repr-fallback {display: none;}</style><div id=\"sk-container-id-4\" class=\"sk-top-container\"><div class=\"sk-text-repr-fallback\"><pre>RandomForestRegressor(max_depth=20, n_estimators=10, n_jobs=-1, random_state=1)</pre><b>In a Jupyter environment, please rerun this cell to show the HTML representation or trust the notebook. <br />On GitHub, the HTML representation is unable to render, please try loading this page with nbviewer.org.</b></div><div class=\"sk-container\" hidden><div class=\"sk-item\"><div class=\"sk-estimator sk-toggleable\"><input class=\"sk-toggleable__control sk-hidden--visually\" id=\"sk-estimator-id-4\" type=\"checkbox\" checked><label for=\"sk-estimator-id-4\" class=\"sk-toggleable__label sk-toggleable__label-arrow\">RandomForestRegressor</label><div class=\"sk-toggleable__content\"><pre>RandomForestRegressor(max_depth=20, n_estimators=10, n_jobs=-1, random_state=1)</pre></div></div></div></div></div>"
      ],
      "text/plain": [
       "RandomForestRegressor(max_depth=20, n_estimators=10, n_jobs=-1, random_state=1)"
      ]
     },
     "execution_count": 56,
     "metadata": {},
     "output_type": "execute_result"
    }
   ],
   "source": [
    "rand_f = RandomForestRegressor(n_estimators=10, max_depth=20, random_state=1, n_jobs=-1)\n",
    "rand_f.fit(X_train_matrix, y_train)"
   ]
  },
  {
   "cell_type": "code",
   "execution_count": 57,
   "metadata": {
    "tags": []
   },
   "outputs": [
    {
     "name": "stdout",
     "output_type": "stream",
     "text": [
      "[0.01332694 0.02680583 0.06716387 0.07591989 0.06568182 0.32857586\n",
      " 0.25714511 0.10932298 0.02439062 0.01395677 0.01771031]\n"
     ]
    },
    {
     "data": {
      "text/html": [
       "<div>\n",
       "<style scoped>\n",
       "    .dataframe tbody tr th:only-of-type {\n",
       "        vertical-align: middle;\n",
       "    }\n",
       "\n",
       "    .dataframe tbody tr th {\n",
       "        vertical-align: top;\n",
       "    }\n",
       "\n",
       "    .dataframe thead th {\n",
       "        text-align: right;\n",
       "    }\n",
       "</style>\n",
       "<table border=\"1\" class=\"dataframe\">\n",
       "  <thead>\n",
       "    <tr style=\"text-align: right;\">\n",
       "      <th></th>\n",
       "      <th>feature</th>\n",
       "      <th>value</th>\n",
       "    </tr>\n",
       "  </thead>\n",
       "  <tbody>\n",
       "    <tr>\n",
       "      <th>5</th>\n",
       "      <td>median_income</td>\n",
       "      <td>0.328576</td>\n",
       "    </tr>\n",
       "    <tr>\n",
       "      <th>6</th>\n",
       "      <td>ocean_proximity=&lt;1H OCEAN</td>\n",
       "      <td>0.257145</td>\n",
       "    </tr>\n",
       "    <tr>\n",
       "      <th>7</th>\n",
       "      <td>ocean_proximity=INLAND</td>\n",
       "      <td>0.109323</td>\n",
       "    </tr>\n",
       "    <tr>\n",
       "      <th>3</th>\n",
       "      <td>latitude</td>\n",
       "      <td>0.075920</td>\n",
       "    </tr>\n",
       "    <tr>\n",
       "      <th>2</th>\n",
       "      <td>index</td>\n",
       "      <td>0.067164</td>\n",
       "    </tr>\n",
       "    <tr>\n",
       "      <th>4</th>\n",
       "      <td>longitude</td>\n",
       "      <td>0.065682</td>\n",
       "    </tr>\n",
       "    <tr>\n",
       "      <th>1</th>\n",
       "      <td>housing_median_age</td>\n",
       "      <td>0.026806</td>\n",
       "    </tr>\n",
       "    <tr>\n",
       "      <th>8</th>\n",
       "      <td>population</td>\n",
       "      <td>0.024391</td>\n",
       "    </tr>\n",
       "    <tr>\n",
       "      <th>10</th>\n",
       "      <td>total_rooms</td>\n",
       "      <td>0.017710</td>\n",
       "    </tr>\n",
       "    <tr>\n",
       "      <th>9</th>\n",
       "      <td>total_bedrooms</td>\n",
       "      <td>0.013957</td>\n",
       "    </tr>\n",
       "    <tr>\n",
       "      <th>0</th>\n",
       "      <td>households</td>\n",
       "      <td>0.013327</td>\n",
       "    </tr>\n",
       "  </tbody>\n",
       "</table>\n",
       "</div>"
      ],
      "text/plain": [
       "                      feature     value\n",
       "5               median_income  0.328576\n",
       "6   ocean_proximity=<1H OCEAN  0.257145\n",
       "7      ocean_proximity=INLAND  0.109323\n",
       "3                    latitude  0.075920\n",
       "2                       index  0.067164\n",
       "4                   longitude  0.065682\n",
       "1          housing_median_age  0.026806\n",
       "8                  population  0.024391\n",
       "10                total_rooms  0.017710\n",
       "9              total_bedrooms  0.013957\n",
       "0                  households  0.013327"
      ]
     },
     "execution_count": 57,
     "metadata": {},
     "output_type": "execute_result"
    }
   ],
   "source": [
    "print(rand_f.feature_importances_)\n",
    "data_features = pd.DataFrame({'feature': feature_names,'value': rand_f.feature_importances_})\n",
    "\n",
    "data_sorted = data_features.sort_values(by=\"value\", ascending=False)\n",
    "data_sorted"
   ]
  },
  {
   "cell_type": "code",
   "execution_count": 58,
   "metadata": {
    "tags": []
   },
   "outputs": [
    {
     "name": "stdout",
     "output_type": "stream",
     "text": [
      "Q5 Answer: median_income\n"
     ]
    }
   ],
   "source": [
    "print('Q5 Answer: median_income')"
   ]
  },
  {
   "cell_type": "markdown",
   "metadata": {},
   "source": [
    "## **`Q6`**\n",
    "Which eta leads to the best RMSE score on the validation dataset?"
   ]
  },
  {
   "cell_type": "markdown",
   "metadata": {},
   "source": [
    "Now let's train an XGBoost model! For this question, we'll tune the eta parameter:\n",
    "- Install XGBoost\n",
    "- Create DMatrix for train and validation\n",
    "- Create a watchlist\n",
    "- Train a model with these parameters for 100 rounds:\n",
    "\n",
    "```\n",
    "xgb_params = {\n",
    "    'eta': 0.3, \n",
    "    'max_depth': 6,\n",
    "    'min_child_weight': 1,\n",
    "    \n",
    "    'objective': 'reg:squarederror',\n",
    "    'nthread': 8,\n",
    "    \n",
    "    'seed': 1,\n",
    "    'verbosity': 1,\n",
    "}\n",
    "```\n",
    "\n",
    "(change `eta` from `0.3` to `0.1`)"
   ]
  },
  {
   "cell_type": "code",
   "execution_count": 60,
   "metadata": {
    "tags": []
   },
   "outputs": [],
   "source": [
    "data_train = xgb.DMatrix(X_train_matrix, label=y_train)\n",
    "data_val = xgb.DMatrix(X_val_matrix, label=y_val)\n",
    "\n",
    "watchlist = [(data_train, \"data_train\"), (data_val, \"data_val\")]"
   ]
  },
  {
   "cell_type": "code",
   "execution_count": 62,
   "metadata": {
    "tags": []
   },
   "outputs": [
    {
     "name": "stdout",
     "output_type": "stream",
     "text": [
      "[0]\tdata_train-rmse:0.44412\tdata_val-rmse:0.44245\n",
      "[1]\tdata_train-rmse:0.36517\tdata_val-rmse:0.36812\n",
      "[2]\tdata_train-rmse:0.31350\tdata_val-rmse:0.32166\n",
      "[3]\tdata_train-rmse:0.28101\tdata_val-rmse:0.29484\n",
      "[4]\tdata_train-rmse:0.26098\tdata_val-rmse:0.27880\n",
      "[5]\tdata_train-rmse:0.24622\tdata_val-rmse:0.26927\n",
      "[6]\tdata_train-rmse:0.23703\tdata_val-rmse:0.26318\n",
      "[7]\tdata_train-rmse:0.22990\tdata_val-rmse:0.25889\n",
      "[8]\tdata_train-rmse:0.22281\tdata_val-rmse:0.25400\n",
      "[9]\tdata_train-rmse:0.21594\tdata_val-rmse:0.24969\n",
      "[10]\tdata_train-rmse:0.21120\tdata_val-rmse:0.24734\n",
      "[11]\tdata_train-rmse:0.20699\tdata_val-rmse:0.24517\n",
      "[12]\tdata_train-rmse:0.20258\tdata_val-rmse:0.24351\n",
      "[13]\tdata_train-rmse:0.19899\tdata_val-rmse:0.24207\n",
      "[14]\tdata_train-rmse:0.19614\tdata_val-rmse:0.24074\n",
      "[15]\tdata_train-rmse:0.19261\tdata_val-rmse:0.23974\n",
      "[16]\tdata_train-rmse:0.19039\tdata_val-rmse:0.23885\n",
      "[17]\tdata_train-rmse:0.18896\tdata_val-rmse:0.23810\n",
      "[18]\tdata_train-rmse:0.18627\tdata_val-rmse:0.23777\n",
      "[19]\tdata_train-rmse:0.18452\tdata_val-rmse:0.23695\n",
      "[20]\tdata_train-rmse:0.18169\tdata_val-rmse:0.23646\n",
      "[21]\tdata_train-rmse:0.18048\tdata_val-rmse:0.23615\n",
      "[22]\tdata_train-rmse:0.17836\tdata_val-rmse:0.23607\n",
      "[23]\tdata_train-rmse:0.17691\tdata_val-rmse:0.23574\n",
      "[24]\tdata_train-rmse:0.17506\tdata_val-rmse:0.23522\n",
      "[25]\tdata_train-rmse:0.17309\tdata_val-rmse:0.23508\n",
      "[26]\tdata_train-rmse:0.17130\tdata_val-rmse:0.23467\n",
      "[27]\tdata_train-rmse:0.16996\tdata_val-rmse:0.23410\n",
      "[28]\tdata_train-rmse:0.16887\tdata_val-rmse:0.23406\n",
      "[29]\tdata_train-rmse:0.16644\tdata_val-rmse:0.23294\n",
      "[30]\tdata_train-rmse:0.16495\tdata_val-rmse:0.23310\n",
      "[31]\tdata_train-rmse:0.16387\tdata_val-rmse:0.23344\n",
      "[32]\tdata_train-rmse:0.16257\tdata_val-rmse:0.23330\n",
      "[33]\tdata_train-rmse:0.16039\tdata_val-rmse:0.23230\n",
      "[34]\tdata_train-rmse:0.15949\tdata_val-rmse:0.23207\n",
      "[35]\tdata_train-rmse:0.15834\tdata_val-rmse:0.23213\n",
      "[36]\tdata_train-rmse:0.15770\tdata_val-rmse:0.23202\n",
      "[37]\tdata_train-rmse:0.15691\tdata_val-rmse:0.23185\n",
      "[38]\tdata_train-rmse:0.15574\tdata_val-rmse:0.23192\n",
      "[39]\tdata_train-rmse:0.15416\tdata_val-rmse:0.23233\n",
      "[40]\tdata_train-rmse:0.15328\tdata_val-rmse:0.23199\n",
      "[41]\tdata_train-rmse:0.15184\tdata_val-rmse:0.23173\n",
      "[42]\tdata_train-rmse:0.15076\tdata_val-rmse:0.23164\n",
      "[43]\tdata_train-rmse:0.15002\tdata_val-rmse:0.23141\n",
      "[44]\tdata_train-rmse:0.14789\tdata_val-rmse:0.23065\n",
      "[45]\tdata_train-rmse:0.14720\tdata_val-rmse:0.23091\n",
      "[46]\tdata_train-rmse:0.14544\tdata_val-rmse:0.23053\n",
      "[47]\tdata_train-rmse:0.14446\tdata_val-rmse:0.23067\n",
      "[48]\tdata_train-rmse:0.14346\tdata_val-rmse:0.23047\n",
      "[49]\tdata_train-rmse:0.14232\tdata_val-rmse:0.23037\n",
      "[50]\tdata_train-rmse:0.14164\tdata_val-rmse:0.23031\n",
      "[51]\tdata_train-rmse:0.14089\tdata_val-rmse:0.23039\n",
      "[52]\tdata_train-rmse:0.14028\tdata_val-rmse:0.23027\n",
      "[53]\tdata_train-rmse:0.13905\tdata_val-rmse:0.23038\n",
      "[54]\tdata_train-rmse:0.13786\tdata_val-rmse:0.23005\n",
      "[55]\tdata_train-rmse:0.13680\tdata_val-rmse:0.23031\n",
      "[56]\tdata_train-rmse:0.13613\tdata_val-rmse:0.23011\n",
      "[57]\tdata_train-rmse:0.13552\tdata_val-rmse:0.23016\n",
      "[58]\tdata_train-rmse:0.13447\tdata_val-rmse:0.23009\n",
      "[59]\tdata_train-rmse:0.13282\tdata_val-rmse:0.22954\n",
      "[60]\tdata_train-rmse:0.13212\tdata_val-rmse:0.22954\n",
      "[61]\tdata_train-rmse:0.13142\tdata_val-rmse:0.22972\n",
      "[62]\tdata_train-rmse:0.13060\tdata_val-rmse:0.23033\n",
      "[63]\tdata_train-rmse:0.13012\tdata_val-rmse:0.23045\n",
      "[64]\tdata_train-rmse:0.12897\tdata_val-rmse:0.22999\n",
      "[65]\tdata_train-rmse:0.12797\tdata_val-rmse:0.23005\n",
      "[66]\tdata_train-rmse:0.12692\tdata_val-rmse:0.23019\n",
      "[67]\tdata_train-rmse:0.12639\tdata_val-rmse:0.23027\n",
      "[68]\tdata_train-rmse:0.12500\tdata_val-rmse:0.23008\n",
      "[69]\tdata_train-rmse:0.12434\tdata_val-rmse:0.22995\n",
      "[70]\tdata_train-rmse:0.12379\tdata_val-rmse:0.23005\n",
      "[71]\tdata_train-rmse:0.12292\tdata_val-rmse:0.22974\n",
      "[72]\tdata_train-rmse:0.12200\tdata_val-rmse:0.22974\n",
      "[73]\tdata_train-rmse:0.12140\tdata_val-rmse:0.22974\n",
      "[74]\tdata_train-rmse:0.12080\tdata_val-rmse:0.22962\n",
      "[75]\tdata_train-rmse:0.12016\tdata_val-rmse:0.22957\n",
      "[76]\tdata_train-rmse:0.11923\tdata_val-rmse:0.22955\n",
      "[77]\tdata_train-rmse:0.11861\tdata_val-rmse:0.22941\n",
      "[78]\tdata_train-rmse:0.11787\tdata_val-rmse:0.22919\n",
      "[79]\tdata_train-rmse:0.11709\tdata_val-rmse:0.22905\n",
      "[80]\tdata_train-rmse:0.11625\tdata_val-rmse:0.22931\n",
      "[81]\tdata_train-rmse:0.11589\tdata_val-rmse:0.22894\n",
      "[82]\tdata_train-rmse:0.11512\tdata_val-rmse:0.22898\n",
      "[83]\tdata_train-rmse:0.11492\tdata_val-rmse:0.22890\n",
      "[84]\tdata_train-rmse:0.11411\tdata_val-rmse:0.22921\n",
      "[85]\tdata_train-rmse:0.11365\tdata_val-rmse:0.22909\n",
      "[86]\tdata_train-rmse:0.11288\tdata_val-rmse:0.22882\n",
      "[87]\tdata_train-rmse:0.11243\tdata_val-rmse:0.22880\n",
      "[88]\tdata_train-rmse:0.11196\tdata_val-rmse:0.22885\n",
      "[89]\tdata_train-rmse:0.11149\tdata_val-rmse:0.22882\n",
      "[90]\tdata_train-rmse:0.11117\tdata_val-rmse:0.22871\n",
      "[91]\tdata_train-rmse:0.11039\tdata_val-rmse:0.22859\n",
      "[92]\tdata_train-rmse:0.10995\tdata_val-rmse:0.22858\n",
      "[93]\tdata_train-rmse:0.10966\tdata_val-rmse:0.22865\n",
      "[94]\tdata_train-rmse:0.10888\tdata_val-rmse:0.22857\n",
      "[95]\tdata_train-rmse:0.10840\tdata_val-rmse:0.22849\n",
      "[96]\tdata_train-rmse:0.10770\tdata_val-rmse:0.22851\n",
      "[97]\tdata_train-rmse:0.10710\tdata_val-rmse:0.22849\n",
      "[98]\tdata_train-rmse:0.10683\tdata_val-rmse:0.22847\n",
      "[99]\tdata_train-rmse:0.10653\tdata_val-rmse:0.22848\n"
     ]
    }
   ],
   "source": [
    "# Training model for 100 rounds\n",
    "xgb_params = {\n",
    "    'eta': 0.3, \n",
    "    'max_depth': 6,\n",
    "    'min_child_weight': 1,\n",
    "\n",
    "    'objective': 'reg:squarederror',\n",
    "    'nthread': 8,\n",
    "\n",
    "    'seed': 1,\n",
    "    'verbosity': 1,\n",
    "}\n",
    "\n",
    "model = xgb.train(xgb_params, data_train, num_boost_round=100, evals=watchlist)"
   ]
  },
  {
   "cell_type": "code",
   "execution_count": 63,
   "metadata": {
    "tags": []
   },
   "outputs": [
    {
     "name": "stdout",
     "output_type": "stream",
     "text": [
      "[0]\tdata_train-rmse:0.52468\tdata_val-rmse:0.52044\n",
      "[1]\tdata_train-rmse:0.48738\tdata_val-rmse:0.48428\n",
      "[2]\tdata_train-rmse:0.45447\tdata_val-rmse:0.45287\n",
      "[3]\tdata_train-rmse:0.42514\tdata_val-rmse:0.42491\n",
      "[4]\tdata_train-rmse:0.39933\tdata_val-rmse:0.40061\n",
      "[5]\tdata_train-rmse:0.37715\tdata_val-rmse:0.37989\n",
      "[6]\tdata_train-rmse:0.35715\tdata_val-rmse:0.36161\n",
      "[7]\tdata_train-rmse:0.34012\tdata_val-rmse:0.34602\n",
      "[8]\tdata_train-rmse:0.32496\tdata_val-rmse:0.33282\n",
      "[9]\tdata_train-rmse:0.31205\tdata_val-rmse:0.32118\n",
      "[10]\tdata_train-rmse:0.30064\tdata_val-rmse:0.31156\n",
      "[11]\tdata_train-rmse:0.29090\tdata_val-rmse:0.30353\n",
      "[12]\tdata_train-rmse:0.28198\tdata_val-rmse:0.29593\n",
      "[13]\tdata_train-rmse:0.27449\tdata_val-rmse:0.29010\n",
      "[14]\tdata_train-rmse:0.26724\tdata_val-rmse:0.28445\n",
      "[15]\tdata_train-rmse:0.26119\tdata_val-rmse:0.27998\n",
      "[16]\tdata_train-rmse:0.25616\tdata_val-rmse:0.27623\n",
      "[17]\tdata_train-rmse:0.25170\tdata_val-rmse:0.27289\n",
      "[18]\tdata_train-rmse:0.24727\tdata_val-rmse:0.26984\n",
      "[19]\tdata_train-rmse:0.24395\tdata_val-rmse:0.26790\n",
      "[20]\tdata_train-rmse:0.23995\tdata_val-rmse:0.26527\n",
      "[21]\tdata_train-rmse:0.23676\tdata_val-rmse:0.26316\n",
      "[22]\tdata_train-rmse:0.23410\tdata_val-rmse:0.26132\n",
      "[23]\tdata_train-rmse:0.23123\tdata_val-rmse:0.25975\n",
      "[24]\tdata_train-rmse:0.22848\tdata_val-rmse:0.25815\n",
      "[25]\tdata_train-rmse:0.22577\tdata_val-rmse:0.25637\n",
      "[26]\tdata_train-rmse:0.22344\tdata_val-rmse:0.25496\n",
      "[27]\tdata_train-rmse:0.22120\tdata_val-rmse:0.25403\n",
      "[28]\tdata_train-rmse:0.21910\tdata_val-rmse:0.25304\n",
      "[29]\tdata_train-rmse:0.21728\tdata_val-rmse:0.25181\n",
      "[30]\tdata_train-rmse:0.21536\tdata_val-rmse:0.25093\n",
      "[31]\tdata_train-rmse:0.21347\tdata_val-rmse:0.24988\n",
      "[32]\tdata_train-rmse:0.21161\tdata_val-rmse:0.24862\n",
      "[33]\tdata_train-rmse:0.20967\tdata_val-rmse:0.24751\n",
      "[34]\tdata_train-rmse:0.20732\tdata_val-rmse:0.24592\n",
      "[35]\tdata_train-rmse:0.20577\tdata_val-rmse:0.24505\n",
      "[36]\tdata_train-rmse:0.20391\tdata_val-rmse:0.24399\n",
      "[37]\tdata_train-rmse:0.20252\tdata_val-rmse:0.24342\n",
      "[38]\tdata_train-rmse:0.20104\tdata_val-rmse:0.24254\n",
      "[39]\tdata_train-rmse:0.19968\tdata_val-rmse:0.24194\n",
      "[40]\tdata_train-rmse:0.19875\tdata_val-rmse:0.24146\n",
      "[41]\tdata_train-rmse:0.19721\tdata_val-rmse:0.24067\n",
      "[42]\tdata_train-rmse:0.19578\tdata_val-rmse:0.24010\n",
      "[43]\tdata_train-rmse:0.19443\tdata_val-rmse:0.23960\n",
      "[44]\tdata_train-rmse:0.19391\tdata_val-rmse:0.23936\n",
      "[45]\tdata_train-rmse:0.19248\tdata_val-rmse:0.23861\n",
      "[46]\tdata_train-rmse:0.19157\tdata_val-rmse:0.23809\n",
      "[47]\tdata_train-rmse:0.19063\tdata_val-rmse:0.23766\n",
      "[48]\tdata_train-rmse:0.18978\tdata_val-rmse:0.23728\n",
      "[49]\tdata_train-rmse:0.18914\tdata_val-rmse:0.23694\n",
      "[50]\tdata_train-rmse:0.18837\tdata_val-rmse:0.23683\n",
      "[51]\tdata_train-rmse:0.18748\tdata_val-rmse:0.23646\n",
      "[52]\tdata_train-rmse:0.18670\tdata_val-rmse:0.23617\n",
      "[53]\tdata_train-rmse:0.18599\tdata_val-rmse:0.23565\n",
      "[54]\tdata_train-rmse:0.18520\tdata_val-rmse:0.23524\n",
      "[55]\tdata_train-rmse:0.18458\tdata_val-rmse:0.23516\n",
      "[56]\tdata_train-rmse:0.18414\tdata_val-rmse:0.23495\n",
      "[57]\tdata_train-rmse:0.18367\tdata_val-rmse:0.23472\n",
      "[58]\tdata_train-rmse:0.18301\tdata_val-rmse:0.23434\n",
      "[59]\tdata_train-rmse:0.18222\tdata_val-rmse:0.23421\n",
      "[60]\tdata_train-rmse:0.18140\tdata_val-rmse:0.23398\n",
      "[61]\tdata_train-rmse:0.18062\tdata_val-rmse:0.23381\n",
      "[62]\tdata_train-rmse:0.18019\tdata_val-rmse:0.23363\n",
      "[63]\tdata_train-rmse:0.17898\tdata_val-rmse:0.23310\n",
      "[64]\tdata_train-rmse:0.17861\tdata_val-rmse:0.23295\n",
      "[65]\tdata_train-rmse:0.17801\tdata_val-rmse:0.23276\n",
      "[66]\tdata_train-rmse:0.17759\tdata_val-rmse:0.23247\n",
      "[67]\tdata_train-rmse:0.17717\tdata_val-rmse:0.23231\n",
      "[68]\tdata_train-rmse:0.17627\tdata_val-rmse:0.23225\n",
      "[69]\tdata_train-rmse:0.17580\tdata_val-rmse:0.23224\n",
      "[70]\tdata_train-rmse:0.17524\tdata_val-rmse:0.23210\n",
      "[71]\tdata_train-rmse:0.17473\tdata_val-rmse:0.23200\n",
      "[72]\tdata_train-rmse:0.17407\tdata_val-rmse:0.23163\n",
      "[73]\tdata_train-rmse:0.17372\tdata_val-rmse:0.23143\n",
      "[74]\tdata_train-rmse:0.17328\tdata_val-rmse:0.23136\n",
      "[75]\tdata_train-rmse:0.17288\tdata_val-rmse:0.23126\n",
      "[76]\tdata_train-rmse:0.17231\tdata_val-rmse:0.23105\n",
      "[77]\tdata_train-rmse:0.17194\tdata_val-rmse:0.23098\n",
      "[78]\tdata_train-rmse:0.17116\tdata_val-rmse:0.23071\n",
      "[79]\tdata_train-rmse:0.17055\tdata_val-rmse:0.23061\n",
      "[80]\tdata_train-rmse:0.16991\tdata_val-rmse:0.23032\n",
      "[81]\tdata_train-rmse:0.16927\tdata_val-rmse:0.23019\n",
      "[82]\tdata_train-rmse:0.16881\tdata_val-rmse:0.23003\n",
      "[83]\tdata_train-rmse:0.16790\tdata_val-rmse:0.22967\n",
      "[84]\tdata_train-rmse:0.16755\tdata_val-rmse:0.22944\n",
      "[85]\tdata_train-rmse:0.16698\tdata_val-rmse:0.22925\n",
      "[86]\tdata_train-rmse:0.16639\tdata_val-rmse:0.22910\n",
      "[87]\tdata_train-rmse:0.16561\tdata_val-rmse:0.22871\n",
      "[88]\tdata_train-rmse:0.16536\tdata_val-rmse:0.22866\n",
      "[89]\tdata_train-rmse:0.16493\tdata_val-rmse:0.22856\n",
      "[90]\tdata_train-rmse:0.16455\tdata_val-rmse:0.22850\n",
      "[91]\tdata_train-rmse:0.16420\tdata_val-rmse:0.22846\n",
      "[92]\tdata_train-rmse:0.16354\tdata_val-rmse:0.22822\n",
      "[93]\tdata_train-rmse:0.16318\tdata_val-rmse:0.22814\n",
      "[94]\tdata_train-rmse:0.16263\tdata_val-rmse:0.22821\n",
      "[95]\tdata_train-rmse:0.16196\tdata_val-rmse:0.22777\n",
      "[96]\tdata_train-rmse:0.16140\tdata_val-rmse:0.22761\n",
      "[97]\tdata_train-rmse:0.16090\tdata_val-rmse:0.22757\n",
      "[98]\tdata_train-rmse:0.16035\tdata_val-rmse:0.22739\n",
      "[99]\tdata_train-rmse:0.16012\tdata_val-rmse:0.22737\n"
     ]
    }
   ],
   "source": [
    "# Changed: 0.3 to 0.1\n",
    "# Now change eta from 0.3 to 0.1.\n",
    "xgb_params = {\n",
    "    'eta': 0.1, \n",
    "    'max_depth': 6,\n",
    "    'min_child_weight': 1,\n",
    "\n",
    "    'objective': 'reg:squarederror',\n",
    "    'nthread': 8,\n",
    "\n",
    "    'seed': 1,\n",
    "    'verbosity': 1,\n",
    "}\n",
    "\n",
    "model = xgb.train(xgb_params, data_train, num_boost_round=100, evals=watchlist)"
   ]
  },
  {
   "cell_type": "code",
   "execution_count": 64,
   "metadata": {
    "tags": []
   },
   "outputs": [
    {
     "name": "stdout",
     "output_type": "stream",
     "text": [
      "Q6 Answer: 0.3\n"
     ]
    }
   ],
   "source": [
    "print('Q6 Answer: 0.3')"
   ]
  },
  {
   "cell_type": "markdown",
   "metadata": {},
   "source": [
    "`0.3`"
   ]
  }
 ],
 "metadata": {
  "kernelspec": {
   "display_name": "Python [conda env:MachineLearning]",
   "language": "python",
   "name": "conda-env-MachineLearning-py"
  },
  "language_info": {
   "codemirror_mode": {
    "name": "ipython",
    "version": 3
   },
   "file_extension": ".py",
   "mimetype": "text/x-python",
   "name": "python",
   "nbconvert_exporter": "python",
   "pygments_lexer": "ipython3",
   "version": "3.11.5"
  }
 },
 "nbformat": 4,
 "nbformat_minor": 4
}
