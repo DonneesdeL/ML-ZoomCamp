{
 "cells": [
  {
   "cell_type": "markdown",
   "id": "74fe9075",
   "metadata": {},
   "source": [
    "# `Machine Learning ZoomCamp`\n",
    "## `HW1_Chapter 3: Classification`\n",
    "\n",
    "### Aileah Gotladera\n",
    "-----------------------------------"
   ]
  },
  {
   "cell_type": "code",
   "execution_count": 1,
   "id": "21321ac3",
   "metadata": {},
   "outputs": [
    {
     "name": "stdout",
     "output_type": "stream",
     "text": [
      "C:\\Users\\LXPH\\anaconda3\\envs\\MachineLearning\\python.exe\n"
     ]
    }
   ],
   "source": [
    "import sys\n",
    "print(sys.executable)\n",
    "import os\n",
    "import numpy as np\n",
    "import pandas as pd"
   ]
  },
  {
   "cell_type": "code",
   "execution_count": 17,
   "id": "a889a7cd",
   "metadata": {},
   "outputs": [
    {
     "name": "stdout",
     "output_type": "stream",
     "text": [
      "(11914, 16)\n"
     ]
    },
    {
     "data": {
      "text/html": [
       "<div>\n",
       "<style scoped>\n",
       "    .dataframe tbody tr th:only-of-type {\n",
       "        vertical-align: middle;\n",
       "    }\n",
       "\n",
       "    .dataframe tbody tr th {\n",
       "        vertical-align: top;\n",
       "    }\n",
       "\n",
       "    .dataframe thead th {\n",
       "        text-align: right;\n",
       "    }\n",
       "</style>\n",
       "<table border=\"1\" class=\"dataframe\">\n",
       "  <thead>\n",
       "    <tr style=\"text-align: right;\">\n",
       "      <th></th>\n",
       "      <th>Make</th>\n",
       "      <th>Model</th>\n",
       "      <th>Year</th>\n",
       "      <th>Engine Fuel Type</th>\n",
       "      <th>Engine HP</th>\n",
       "      <th>Engine Cylinders</th>\n",
       "      <th>Transmission Type</th>\n",
       "      <th>Driven_Wheels</th>\n",
       "      <th>Number of Doors</th>\n",
       "      <th>Market Category</th>\n",
       "      <th>Vehicle Size</th>\n",
       "      <th>Vehicle Style</th>\n",
       "      <th>highway MPG</th>\n",
       "      <th>city mpg</th>\n",
       "      <th>Popularity</th>\n",
       "      <th>MSRP</th>\n",
       "    </tr>\n",
       "  </thead>\n",
       "  <tbody>\n",
       "    <tr>\n",
       "      <th>0</th>\n",
       "      <td>BMW</td>\n",
       "      <td>1 Series M</td>\n",
       "      <td>2011</td>\n",
       "      <td>premium unleaded (required)</td>\n",
       "      <td>335.0</td>\n",
       "      <td>6.0</td>\n",
       "      <td>MANUAL</td>\n",
       "      <td>rear wheel drive</td>\n",
       "      <td>2.0</td>\n",
       "      <td>Factory Tuner,Luxury,High-Performance</td>\n",
       "      <td>Compact</td>\n",
       "      <td>Coupe</td>\n",
       "      <td>26</td>\n",
       "      <td>19</td>\n",
       "      <td>3916</td>\n",
       "      <td>46135</td>\n",
       "    </tr>\n",
       "    <tr>\n",
       "      <th>1</th>\n",
       "      <td>BMW</td>\n",
       "      <td>1 Series</td>\n",
       "      <td>2011</td>\n",
       "      <td>premium unleaded (required)</td>\n",
       "      <td>300.0</td>\n",
       "      <td>6.0</td>\n",
       "      <td>MANUAL</td>\n",
       "      <td>rear wheel drive</td>\n",
       "      <td>2.0</td>\n",
       "      <td>Luxury,Performance</td>\n",
       "      <td>Compact</td>\n",
       "      <td>Convertible</td>\n",
       "      <td>28</td>\n",
       "      <td>19</td>\n",
       "      <td>3916</td>\n",
       "      <td>40650</td>\n",
       "    </tr>\n",
       "    <tr>\n",
       "      <th>2</th>\n",
       "      <td>BMW</td>\n",
       "      <td>1 Series</td>\n",
       "      <td>2011</td>\n",
       "      <td>premium unleaded (required)</td>\n",
       "      <td>300.0</td>\n",
       "      <td>6.0</td>\n",
       "      <td>MANUAL</td>\n",
       "      <td>rear wheel drive</td>\n",
       "      <td>2.0</td>\n",
       "      <td>Luxury,High-Performance</td>\n",
       "      <td>Compact</td>\n",
       "      <td>Coupe</td>\n",
       "      <td>28</td>\n",
       "      <td>20</td>\n",
       "      <td>3916</td>\n",
       "      <td>36350</td>\n",
       "    </tr>\n",
       "    <tr>\n",
       "      <th>3</th>\n",
       "      <td>BMW</td>\n",
       "      <td>1 Series</td>\n",
       "      <td>2011</td>\n",
       "      <td>premium unleaded (required)</td>\n",
       "      <td>230.0</td>\n",
       "      <td>6.0</td>\n",
       "      <td>MANUAL</td>\n",
       "      <td>rear wheel drive</td>\n",
       "      <td>2.0</td>\n",
       "      <td>Luxury,Performance</td>\n",
       "      <td>Compact</td>\n",
       "      <td>Coupe</td>\n",
       "      <td>28</td>\n",
       "      <td>18</td>\n",
       "      <td>3916</td>\n",
       "      <td>29450</td>\n",
       "    </tr>\n",
       "    <tr>\n",
       "      <th>4</th>\n",
       "      <td>BMW</td>\n",
       "      <td>1 Series</td>\n",
       "      <td>2011</td>\n",
       "      <td>premium unleaded (required)</td>\n",
       "      <td>230.0</td>\n",
       "      <td>6.0</td>\n",
       "      <td>MANUAL</td>\n",
       "      <td>rear wheel drive</td>\n",
       "      <td>2.0</td>\n",
       "      <td>Luxury</td>\n",
       "      <td>Compact</td>\n",
       "      <td>Convertible</td>\n",
       "      <td>28</td>\n",
       "      <td>18</td>\n",
       "      <td>3916</td>\n",
       "      <td>34500</td>\n",
       "    </tr>\n",
       "  </tbody>\n",
       "</table>\n",
       "</div>"
      ],
      "text/plain": [
       "  Make       Model  Year             Engine Fuel Type  Engine HP  \\\n",
       "0  BMW  1 Series M  2011  premium unleaded (required)      335.0   \n",
       "1  BMW    1 Series  2011  premium unleaded (required)      300.0   \n",
       "2  BMW    1 Series  2011  premium unleaded (required)      300.0   \n",
       "3  BMW    1 Series  2011  premium unleaded (required)      230.0   \n",
       "4  BMW    1 Series  2011  premium unleaded (required)      230.0   \n",
       "\n",
       "   Engine Cylinders Transmission Type     Driven_Wheels  Number of Doors  \\\n",
       "0               6.0            MANUAL  rear wheel drive              2.0   \n",
       "1               6.0            MANUAL  rear wheel drive              2.0   \n",
       "2               6.0            MANUAL  rear wheel drive              2.0   \n",
       "3               6.0            MANUAL  rear wheel drive              2.0   \n",
       "4               6.0            MANUAL  rear wheel drive              2.0   \n",
       "\n",
       "                         Market Category Vehicle Size Vehicle Style  \\\n",
       "0  Factory Tuner,Luxury,High-Performance      Compact         Coupe   \n",
       "1                     Luxury,Performance      Compact   Convertible   \n",
       "2                Luxury,High-Performance      Compact         Coupe   \n",
       "3                     Luxury,Performance      Compact         Coupe   \n",
       "4                                 Luxury      Compact   Convertible   \n",
       "\n",
       "   highway MPG  city mpg  Popularity   MSRP  \n",
       "0           26        19        3916  46135  \n",
       "1           28        19        3916  40650  \n",
       "2           28        20        3916  36350  \n",
       "3           28        18        3916  29450  \n",
       "4           28        18        3916  34500  "
      ]
     },
     "execution_count": 17,
     "metadata": {},
     "output_type": "execute_result"
    }
   ],
   "source": [
    "# Load the data\n",
    "file = 'C:/Users/LXPH/OneDrive - Lexcode/Documents/ML ZoomCamp/Data/Homework/ch3_Classification_hw1data.csv'\n",
    "orig_data = pd.read_csv(file)\n",
    "print(orig_data.shape)\n",
    "orig_data.head()"
   ]
  },
  {
   "cell_type": "markdown",
   "id": "6b37af1f",
   "metadata": {},
   "source": [
    "### **Data Preparation and Data Cleaning**"
   ]
  },
  {
   "cell_type": "code",
   "execution_count": 19,
   "id": "60d30887",
   "metadata": {},
   "outputs": [
    {
     "data": {
      "text/plain": [
       "Index(['make', 'model', 'year', 'engine_fuel_type', 'engine_hp',\n",
       "       'engine_cylinders', 'transmission_type', 'driven_wheels',\n",
       "       'number_of_doors', 'market_category', 'vehicle_size', 'vehicle_style',\n",
       "       'highway_mpg', 'city_mpg', 'popularity', 'msrp'],\n",
       "      dtype='object')"
      ]
     },
     "execution_count": 19,
     "metadata": {},
     "output_type": "execute_result"
    }
   ],
   "source": [
    "# Column name transformation/cleaning\n",
    "orig_data.columns = orig_data.columns.str.lower().str.replace(' ', '_')\n",
    "orig_data.columns"
   ]
  },
  {
   "cell_type": "code",
   "execution_count": 20,
   "id": "3ff662f1",
   "metadata": {},
   "outputs": [],
   "source": [
    "# Selecting needed columns\n",
    "data = orig_data[['make', 'model', 'year', 'engine_hp', 'engine_cylinders', 'transmission_type', 'vehicle_style',\n",
    "       'highway_mpg', 'city_mpg']]"
   ]
  },
  {
   "cell_type": "code",
   "execution_count": 21,
   "id": "b7705424",
   "metadata": {},
   "outputs": [
    {
     "data": {
      "text/plain": [
       "make                  object\n",
       "model                 object\n",
       "year                   int64\n",
       "engine_hp            float64\n",
       "engine_cylinders     float64\n",
       "transmission_type     object\n",
       "vehicle_style         object\n",
       "highway_mpg            int64\n",
       "city_mpg               int64\n",
       "dtype: object"
      ]
     },
     "execution_count": 21,
     "metadata": {},
     "output_type": "execute_result"
    }
   ],
   "source": [
    "# Checking dtypes of columns\n",
    "data.dtypes"
   ]
  },
  {
   "cell_type": "code",
   "execution_count": 38,
   "id": "45bda83f",
   "metadata": {},
   "outputs": [],
   "source": [
    "# Creating categorical and numerical columns list\n",
    "categorical = ['make', 'model', 'transmission_type', 'vehicle_style']\n",
    "numerical = ['year', 'engine_hp', 'engine_cylinders', 'highway_mpg', 'city_mpg']"
   ]
  },
  {
   "cell_type": "code",
   "execution_count": 22,
   "id": "a58dc6f6",
   "metadata": {},
   "outputs": [
    {
     "data": {
      "text/plain": [
       "make                  0\n",
       "model                 0\n",
       "year                  0\n",
       "engine_hp            69\n",
       "engine_cylinders     30\n",
       "transmission_type     0\n",
       "vehicle_style         0\n",
       "highway_mpg           0\n",
       "city_mpg              0\n",
       "dtype: int64"
      ]
     },
     "execution_count": 22,
     "metadata": {},
     "output_type": "execute_result"
    }
   ],
   "source": [
    "# Checking null values\n",
    "data.isnull().sum()"
   ]
  },
  {
   "cell_type": "code",
   "execution_count": 23,
   "id": "2847d4a4",
   "metadata": {},
   "outputs": [
    {
     "data": {
      "text/plain": [
       "make                 0\n",
       "model                0\n",
       "year                 0\n",
       "engine_hp            0\n",
       "engine_cylinders     0\n",
       "transmission_type    0\n",
       "vehicle_style        0\n",
       "highway_mpg          0\n",
       "city_mpg             0\n",
       "dtype: int64"
      ]
     },
     "execution_count": 23,
     "metadata": {},
     "output_type": "execute_result"
    }
   ],
   "source": [
    "# Replacing null values with 0\n",
    "data = data.fillna(0)\n",
    "data.isnull().sum()"
   ]
  },
  {
   "cell_type": "code",
   "execution_count": 29,
   "id": "d615553c",
   "metadata": {},
   "outputs": [
    {
     "data": {
      "text/plain": [
       "0    46135\n",
       "1    40650\n",
       "2    36350\n",
       "3    29450\n",
       "4    34500\n",
       "Name: price, dtype: int64"
      ]
     },
     "execution_count": 29,
     "metadata": {},
     "output_type": "execute_result"
    }
   ],
   "source": [
    "# Rename MSRP to price (use orig_data df)\n",
    "orig_data.rename(columns={'msrp':'price'}, inplace=True)\n",
    "price_col = orig_data['price']\n",
    "price_col.head()"
   ]
  },
  {
   "cell_type": "markdown",
   "id": "5ac69d91",
   "metadata": {},
   "source": [
    "## **`Q1`**\n",
    "* What is the most frequent observation (mode) for the column transmission_type?"
   ]
  },
  {
   "cell_type": "code",
   "execution_count": 32,
   "id": "cf4c590c",
   "metadata": {},
   "outputs": [
    {
     "name": "stdout",
     "output_type": "stream",
     "text": [
      "Q1 Answer: AUTOMATIC\n"
     ]
    }
   ],
   "source": [
    "q1 = data['transmission_type'].mode()[0]\n",
    "print(f'Q1 Answer: {q1}')"
   ]
  },
  {
   "cell_type": "markdown",
   "id": "6651a66d",
   "metadata": {},
   "source": [
    "## **`Q2`**\n",
    "* What are the two features that have the biggest correlation in this dataset?"
   ]
  },
  {
   "cell_type": "code",
   "execution_count": 56,
   "id": "837bb790",
   "metadata": {},
   "outputs": [
    {
     "name": "stdout",
     "output_type": "stream",
     "text": [
      "Q2 Answer: highway_mpg and city_mpg\n"
     ]
    }
   ],
   "source": [
    "# Calculating the correlation matrix\n",
    "correlatioon_matrix = data[numerical].corr()\n",
    "correlatioon_matrix\n",
    "\n",
    "# Find 2 features with the highes correlation\n",
    "max_cor = correlatioon_matrix.abs().unstack()\n",
    "max_cor = max_cor[max_cor !=1].idxmax()\n",
    "\n",
    "\n",
    "feature1, feature2 = max_cor\n",
    "\n",
    "print(f'Q2 Answer: {feature1} and {feature2}')"
   ]
  },
  {
   "cell_type": "markdown",
   "id": "8d084221",
   "metadata": {},
   "source": [
    "------------\n",
    "**Make `price` binary**"
   ]
  },
  {
   "cell_type": "code",
   "execution_count": 63,
   "id": "3d6540e5",
   "metadata": {},
   "outputs": [
    {
     "data": {
      "text/plain": [
       "array([1, 0])"
      ]
     },
     "execution_count": 63,
     "metadata": {},
     "output_type": "execute_result"
    }
   ],
   "source": [
    "# Create the \"above_average\" column based on the condition\n",
    "data['above_average'] = (price_col > price_col.mean()).astype(int)"
   ]
  },
  {
   "cell_type": "markdown",
   "id": "339ee42f",
   "metadata": {},
   "source": [
    "**Split the data**"
   ]
  },
  {
   "cell_type": "code",
   "execution_count": 161,
   "id": "c7a3c043",
   "metadata": {},
   "outputs": [
    {
     "name": "stdout",
     "output_type": "stream",
     "text": [
      "Train Set shape: (7148, 9)\n",
      "Valication Set shape: (2383, 9)\n",
      "Test Set shape: (2383, 9)\n"
     ]
    }
   ],
   "source": [
    "from sklearn.model_selection import train_test_split\n",
    "\n",
    "# Define features and target \n",
    "X = data.drop('above_average', axis = 1)\n",
    "y = data['above_average']\n",
    "\n",
    "# Split the data into train, validation and test sets\n",
    "# Use a 60%/20%/20% distribution with a random seed of 42\n",
    "X_train, X_temp, y_train, y_temp = train_test_split(X,y, test_size=0.4, random_state=42)\n",
    "X_val, X_test, y_val, y_test = train_test_split(X_temp, y_temp, test_size=0.5, random_state=42)\n",
    "\n",
    "# Check shapes\n",
    "print(f'Train Set shape: {X_train.shape}')\n",
    "print(f'Valication Set shape: {X_val.shape}')\n",
    "print(f'Test Set shape: {X_test.shape}')"
   ]
  },
  {
   "cell_type": "markdown",
   "id": "f117ea68",
   "metadata": {},
   "source": [
    "## **`Q3`**\n",
    "* Calculate the mutual information score between above_average and other categorical variables in our dataset. Use the training set only.\n",
    "* Round the scores to 2 decimals using round(score, 2). <br><br>\n",
    "Which of the variables has the lowest mutual information score?"
   ]
  },
  {
   "cell_type": "code",
   "execution_count": 129,
   "id": "e5bf2fb2",
   "metadata": {},
   "outputs": [
    {
     "name": "stdout",
     "output_type": "stream",
     "text": [
      "model:0.46\n",
      "make:0.24\n",
      "vehicle_style:0.08\n",
      "transmission_type:0.02\n"
     ]
    }
   ],
   "source": [
    "from sklearn.metrics import mutual_info_score\n",
    "\n",
    "mi_scores = {}\n",
    "\n",
    "# Calculating mutual infromation scores per categorical feature\n",
    "for feature in categorical:\n",
    "    mi_score = mutual_info_score(X_train[feature], y_train)\n",
    "    mi_scores[feature] = round(mi_score, 2)\n",
    "\n",
    "# Sorting the dictionary\n",
    "sorted_mi_scores = dict(sorted(mi_scores.items(), key=lambda x: x[1], reverse=True))\n",
    "for feature, score in sorted_mi_scores.items():\n",
    "    print(f'{feature}:{score}')\n"
   ]
  },
  {
   "cell_type": "code",
   "execution_count": 130,
   "id": "885e9caf",
   "metadata": {},
   "outputs": [
    {
     "data": {
      "text/plain": [
       "model                0.46\n",
       "make                 0.24\n",
       "vehicle_style        0.08\n",
       "transmission_type    0.02\n",
       "dtype: float64"
      ]
     },
     "execution_count": 130,
     "metadata": {},
     "output_type": "execute_result"
    }
   ],
   "source": [
    "# Trying different approach (same with the video)\n",
    "from sklearn.metrics import mutual_info_score\n",
    "\n",
    "def mutual_info_ave_score(series):\n",
    "    mis = mutual_info_score(series, y_train)\n",
    "    return round(mis,2)\n",
    "\n",
    "mi_scores = X_train[categorical].apply(mutual_info_ave_score)\n",
    "mi_scores.sort_values(ascending=False)"
   ]
  },
  {
   "cell_type": "code",
   "execution_count": 89,
   "id": "321dccc4",
   "metadata": {},
   "outputs": [],
   "source": [
    "mi_lowest = list(sorted_mi_scores.keys())[-1]"
   ]
  },
  {
   "cell_type": "code",
   "execution_count": 90,
   "id": "b48e7f22",
   "metadata": {},
   "outputs": [
    {
     "name": "stdout",
     "output_type": "stream",
     "text": [
      "Q3 Answer: transmission_type\n"
     ]
    }
   ],
   "source": [
    "print(f'Q3 Answer: {mi_lowest}')"
   ]
  },
  {
   "cell_type": "markdown",
   "id": "fd275fe0",
   "metadata": {},
   "source": [
    "## **`Q4`**\n",
    "**Train a Logistic Regression** <br>\n",
    "* emember that we have several categorical variables in the dataset. Include them using one-hot encoding.\n",
    "* Fit the model on the training dataset.\n",
    "    * To make sure the results are reproducible across different versions of Scikit-Learn, fit the model with these parameters:\n",
    "        * model = LogisticRegression(solver='liblinear', C=10, max_iter=1000, random_state=42)\n",
    "* Calculate the accuracy on the validation dataset and round it to 2 decimal digits."
   ]
  },
  {
   "cell_type": "code",
   "execution_count": 135,
   "id": "30d986d7",
   "metadata": {},
   "outputs": [
    {
     "name": "stderr",
     "output_type": "stream",
     "text": [
      "C:\\Users\\LXPH\\anaconda3\\envs\\MachineLearning\\Lib\\site-packages\\sklearn\\preprocessing\\_encoders.py:868: FutureWarning: `sparse` was renamed to `sparse_output` in version 1.2 and will be removed in 1.4. `sparse_output` is ignored unless you leave `sparse` to its default value.\n",
      "  warnings.warn(\n"
     ]
    },
    {
     "name": "stdout",
     "output_type": "stream",
     "text": [
      "Q4 Answer: 0.95\n"
     ]
    }
   ],
   "source": [
    "from sklearn.compose import ColumnTransformer\n",
    "from sklearn.preprocessing import OneHotEncoder\n",
    "from sklearn.linear_model import LogisticRegression\n",
    "from sklearn.pipeline import Pipeline\n",
    "from sklearn.metrics import accuracy_score\n",
    "\n",
    "# Creating a ColumnTransformer for one-hot encoding\n",
    "preprocessor = ColumnTransformer(\n",
    "transformers=[('cat', OneHotEncoder(sparse=False, drop='first', handle_unknown='ignore'), categorical)], remainder='passthrough')\n",
    "\n",
    "# Creating the logistic Regression Model with specified parameters\n",
    "model = LogisticRegression(solver='liblinear', C=10, max_iter=1000, random_state=42)\n",
    "\n",
    "# Creating a pipeline including data preprocessing and model fitting\n",
    "pipeline = Pipeline([('preprocessor', preprocessor), ('model', model)])\n",
    "\n",
    "# Combining training and validation data for one-hot encoding\n",
    "X_combined = pd.concat([X_train, X_val], axis=0)\n",
    "y_combined = pd.concat([y_train, y_val], axis=0)\n",
    "\n",
    "# Fit the model on the trai9ning set\n",
    "pipeline.fit(X_combined, y_combined)\n",
    "\n",
    "\n",
    "# Predict on the validation dataset\n",
    "y_val_pred = pipeline.predict(X_val)\n",
    "\n",
    "\n",
    "# Calculating the accuracy on the validation dataset (rounded to 2 decimal places)\n",
    "accuracy = round(accuracy_score(y_val, y_val_pred), 2)\n",
    "\n",
    "print(f'Q4 Answer: {accuracy}')"
   ]
  },
  {
   "cell_type": "code",
   "execution_count": 136,
   "id": "e43aa00c",
   "metadata": {},
   "outputs": [
    {
     "data": {
      "text/plain": [
       "Index(['make', 'model', 'year', 'engine_hp', 'engine_cylinders',\n",
       "       'transmission_type', 'vehicle_style', 'highway_mpg', 'city_mpg'],\n",
       "      dtype='object')"
      ]
     },
     "execution_count": 136,
     "metadata": {},
     "output_type": "execute_result"
    }
   ],
   "source": [
    "X_combined.columns"
   ]
  },
  {
   "cell_type": "markdown",
   "id": "30b856a5",
   "metadata": {},
   "source": [
    "## **`Q5`**\n",
    "Finding the least useful feature using the *feature elimination* technique\n",
    "* Train a model with all these features (using the same parameters as in Q4).\n",
    "* Now exclude each feature from this set and train a model without it. Record the accuracy for each model.\n",
    "* For each feature, calculate the difference between the original accuracy and the accuracy without the feature."
   ]
  },
  {
   "cell_type": "code",
   "execution_count": 174,
   "id": "04282aa0",
   "metadata": {},
   "outputs": [
    {
     "name": "stdout",
     "output_type": "stream",
     "text": [
      "Skipped. Still debugging.\n"
     ]
    }
   ],
   "source": [
    "print('Skipped. Still debugging.')"
   ]
  },
  {
   "cell_type": "markdown",
   "id": "748afee5",
   "metadata": {},
   "source": [
    "## **`Q6`**\n",
    "* We'll need to use the original column price. Apply the logarithmic transformation to this column.\n",
    "* Fit the Ridge regression model on the training data with a solver 'sag'. Set the seed to 42.\n",
    "* This model also has a parameter alpha. \n",
    "    * Let's try the following values: [0, 0.01, 0.1, 1, 10].\n",
    "* Round your RMSE scores to 3 decimal digits."
   ]
  },
  {
   "cell_type": "code",
   "execution_count": 170,
   "id": "8d071eb7",
   "metadata": {},
   "outputs": [
    {
     "name": "stdout",
     "output_type": "stream",
     "text": [
      "0: 0.323\n",
      "0.01: 0.323\n",
      "0.1: 0.323\n",
      "1: 0.323\n",
      "10: 0.323\n"
     ]
    }
   ],
   "source": [
    "from math import sqrt\n",
    "from sklearn.linear_model import Ridge\n",
    "from sklearn.metrics import mean_squared_error\n",
    "\n",
    "data['price'] = np.log1p(orig_data['price'])\n",
    "\n",
    "# Split the data into training and validation sets\n",
    "X = data[numerical]\n",
    "y = data['above_average']\n",
    "X_train, X_val, y_train, y_val = train_test_split(X, y, test_size=0.2, random_state=42)\n",
    "\n",
    "\n",
    "scores = {}\n",
    "\n",
    "for alpha  in [0, 0.01, 0.1, 1, 10]:\n",
    "    ridge = Ridge(alpha=alpha, solver='sag', random_state=42)\n",
    "    ridge.fit(X_train, y_train)\n",
    "    y_val_pred = ridge.predict(X_val)\n",
    "    rmse = sqrt(mean_squared_error(y_val, y_val_pred))\n",
    "    scores[alpha] = round(rmse, 3)\n",
    "    \n",
    "for alpha, rmse in scores.items():\n",
    "    print(f'{alpha}: {rmse}')"
   ]
  },
  {
   "cell_type": "code",
   "execution_count": 171,
   "id": "8ada3d18",
   "metadata": {},
   "outputs": [
    {
     "data": {
      "text/plain": [
       "dict_values([0.323, 0.323, 0.323, 0.323, 0.323])"
      ]
     },
     "execution_count": 171,
     "metadata": {},
     "output_type": "execute_result"
    }
   ],
   "source": [
    "scores.values()"
   ]
  },
  {
   "cell_type": "code",
   "execution_count": 173,
   "id": "3e243189",
   "metadata": {},
   "outputs": [
    {
     "name": "stdout",
     "output_type": "stream",
     "text": [
      "Q6 Answer: 0\n"
     ]
    }
   ],
   "source": [
    "print(f'Q6 Answer: 0')"
   ]
  },
  {
   "cell_type": "code",
   "execution_count": null,
   "id": "46a7c359",
   "metadata": {},
   "outputs": [],
   "source": []
  }
 ],
 "metadata": {
  "kernelspec": {
   "display_name": "Python [conda env:MachineLearning]",
   "language": "python",
   "name": "conda-env-MachineLearning-py"
  },
  "language_info": {
   "codemirror_mode": {
    "name": "ipython",
    "version": 3
   },
   "file_extension": ".py",
   "mimetype": "text/x-python",
   "name": "python",
   "nbconvert_exporter": "python",
   "pygments_lexer": "ipython3",
   "version": "3.11.5"
  }
 },
 "nbformat": 4,
 "nbformat_minor": 5
}
