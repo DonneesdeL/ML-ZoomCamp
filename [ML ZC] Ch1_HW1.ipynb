{
 "cells": [
  {
   "cell_type": "markdown",
   "id": "52dd7dde",
   "metadata": {},
   "source": [
    "# `Machine Learning ZoomCamp`\n",
    "## `HW1_Chapter 1`\n",
    "\n",
    "### Aileah Gotladera\n",
    "-----------------------------------"
   ]
  },
  {
   "cell_type": "code",
   "execution_count": 2,
   "id": "48028910",
   "metadata": {},
   "outputs": [],
   "source": [
    "# Import\n",
    "import numpy as np\n",
    "import pandas as pd"
   ]
  },
  {
   "cell_type": "markdown",
   "id": "8281af20",
   "metadata": {},
   "source": [
    "### `Q1`\n",
    ".Checking pandas version;"
   ]
  },
  {
   "cell_type": "code",
   "execution_count": 3,
   "id": "11a2bc2f",
   "metadata": {},
   "outputs": [
    {
     "data": {
      "text/plain": [
       "'1.5.3'"
      ]
     },
     "execution_count": 3,
     "metadata": {},
     "output_type": "execute_result"
    }
   ],
   "source": [
    "pd.__version__"
   ]
  },
  {
   "cell_type": "markdown",
   "id": "e9b27a3c",
   "metadata": {},
   "source": [
    "#### Getting the data\n",
    "Use the California Housing Prices Dataset."
   ]
  },
  {
   "cell_type": "code",
   "execution_count": 11,
   "id": "c4a38837",
   "metadata": {},
   "outputs": [
    {
     "data": {
      "text/html": [
       "<div>\n",
       "<style scoped>\n",
       "    .dataframe tbody tr th:only-of-type {\n",
       "        vertical-align: middle;\n",
       "    }\n",
       "\n",
       "    .dataframe tbody tr th {\n",
       "        vertical-align: top;\n",
       "    }\n",
       "\n",
       "    .dataframe thead th {\n",
       "        text-align: right;\n",
       "    }\n",
       "</style>\n",
       "<table border=\"1\" class=\"dataframe\">\n",
       "  <thead>\n",
       "    <tr style=\"text-align: right;\">\n",
       "      <th></th>\n",
       "      <th>longitude</th>\n",
       "      <th>latitude</th>\n",
       "      <th>housing_median_age</th>\n",
       "      <th>total_rooms</th>\n",
       "      <th>total_bedrooms</th>\n",
       "      <th>population</th>\n",
       "      <th>households</th>\n",
       "      <th>median_income</th>\n",
       "      <th>median_house_value</th>\n",
       "      <th>ocean_proximity</th>\n",
       "    </tr>\n",
       "  </thead>\n",
       "  <tbody>\n",
       "    <tr>\n",
       "      <th>0</th>\n",
       "      <td>-122.23</td>\n",
       "      <td>37.88</td>\n",
       "      <td>41.0</td>\n",
       "      <td>880.0</td>\n",
       "      <td>129.0</td>\n",
       "      <td>322.0</td>\n",
       "      <td>126.0</td>\n",
       "      <td>8.3252</td>\n",
       "      <td>452600.0</td>\n",
       "      <td>NEAR BAY</td>\n",
       "    </tr>\n",
       "    <tr>\n",
       "      <th>1</th>\n",
       "      <td>-122.22</td>\n",
       "      <td>37.86</td>\n",
       "      <td>21.0</td>\n",
       "      <td>7099.0</td>\n",
       "      <td>1106.0</td>\n",
       "      <td>2401.0</td>\n",
       "      <td>1138.0</td>\n",
       "      <td>8.3014</td>\n",
       "      <td>358500.0</td>\n",
       "      <td>NEAR BAY</td>\n",
       "    </tr>\n",
       "    <tr>\n",
       "      <th>2</th>\n",
       "      <td>-122.24</td>\n",
       "      <td>37.85</td>\n",
       "      <td>52.0</td>\n",
       "      <td>1467.0</td>\n",
       "      <td>190.0</td>\n",
       "      <td>496.0</td>\n",
       "      <td>177.0</td>\n",
       "      <td>7.2574</td>\n",
       "      <td>352100.0</td>\n",
       "      <td>NEAR BAY</td>\n",
       "    </tr>\n",
       "    <tr>\n",
       "      <th>3</th>\n",
       "      <td>-122.25</td>\n",
       "      <td>37.85</td>\n",
       "      <td>52.0</td>\n",
       "      <td>1274.0</td>\n",
       "      <td>235.0</td>\n",
       "      <td>558.0</td>\n",
       "      <td>219.0</td>\n",
       "      <td>5.6431</td>\n",
       "      <td>341300.0</td>\n",
       "      <td>NEAR BAY</td>\n",
       "    </tr>\n",
       "    <tr>\n",
       "      <th>4</th>\n",
       "      <td>-122.25</td>\n",
       "      <td>37.85</td>\n",
       "      <td>52.0</td>\n",
       "      <td>1627.0</td>\n",
       "      <td>280.0</td>\n",
       "      <td>565.0</td>\n",
       "      <td>259.0</td>\n",
       "      <td>3.8462</td>\n",
       "      <td>342200.0</td>\n",
       "      <td>NEAR BAY</td>\n",
       "    </tr>\n",
       "  </tbody>\n",
       "</table>\n",
       "</div>"
      ],
      "text/plain": [
       "   longitude  latitude  housing_median_age  total_rooms  total_bedrooms  \\\n",
       "0    -122.23     37.88                41.0        880.0           129.0   \n",
       "1    -122.22     37.86                21.0       7099.0          1106.0   \n",
       "2    -122.24     37.85                52.0       1467.0           190.0   \n",
       "3    -122.25     37.85                52.0       1274.0           235.0   \n",
       "4    -122.25     37.85                52.0       1627.0           280.0   \n",
       "\n",
       "   population  households  median_income  median_house_value ocean_proximity  \n",
       "0       322.0       126.0         8.3252            452600.0        NEAR BAY  \n",
       "1      2401.0      1138.0         8.3014            358500.0        NEAR BAY  \n",
       "2       496.0       177.0         7.2574            352100.0        NEAR BAY  \n",
       "3       558.0       219.0         5.6431            341300.0        NEAR BAY  \n",
       "4       565.0       259.0         3.8462            342200.0        NEAR BAY  "
      ]
     },
     "execution_count": 11,
     "metadata": {},
     "output_type": "execute_result"
    }
   ],
   "source": [
    "data = pd.read_csv('C:/Users/arqui/Documents/ch1_hw1data.csv')\n",
    "data.head()"
   ]
  },
  {
   "cell_type": "markdown",
   "id": "6cdc813b",
   "metadata": {},
   "source": [
    "### `Q2`\n",
    "How many clumns are in the dataset?"
   ]
  },
  {
   "cell_type": "code",
   "execution_count": 17,
   "id": "881d8b37",
   "metadata": {},
   "outputs": [
    {
     "name": "stdout",
     "output_type": "stream",
     "text": [
      "['longitude', 'latitude', 'housing_median_age', 'total_rooms', 'total_bedrooms', 'population', 'households', 'median_income', 'median_house_value', 'ocean_proximity'] \n",
      "\n",
      "10\n"
     ]
    }
   ],
   "source": [
    "print(list(data.columns), '\\n')\n",
    "print(len(data.columns))"
   ]
  },
  {
   "cell_type": "markdown",
   "id": "468f44fc",
   "metadata": {},
   "source": [
    "### `Q3`\n",
    "Which columns in the dataset have missing values?"
   ]
  },
  {
   "cell_type": "code",
   "execution_count": 25,
   "id": "73e9171c",
   "metadata": {},
   "outputs": [
    {
     "data": {
      "text/plain": [
       "longitude               0\n",
       "latitude                0\n",
       "housing_median_age      0\n",
       "total_rooms             0\n",
       "total_bedrooms        207\n",
       "population              0\n",
       "households              0\n",
       "median_income           0\n",
       "median_house_value      0\n",
       "ocean_proximity         0\n",
       "dtype: int64"
      ]
     },
     "execution_count": 25,
     "metadata": {},
     "output_type": "execute_result"
    }
   ],
   "source": [
    "# Checking number of null values of all columns\n",
    "data.isnull().sum()"
   ]
  },
  {
   "cell_type": "code",
   "execution_count": 26,
   "id": "3d52ab25",
   "metadata": {},
   "outputs": [
    {
     "data": {
      "text/plain": [
       "['total_bedrooms']"
      ]
     },
     "execution_count": 26,
     "metadata": {},
     "output_type": "execute_result"
    }
   ],
   "source": [
    "# Check which column has null values\n",
    "data.columns[data.isnull().any()].tolist()"
   ]
  },
  {
   "cell_type": "markdown",
   "id": "e3891ded",
   "metadata": {},
   "source": [
    "### `Q4`\n",
    "How many unique values does the ocean_proximity column have?"
   ]
  },
  {
   "cell_type": "code",
   "execution_count": 28,
   "id": "1cc62315",
   "metadata": {},
   "outputs": [
    {
     "name": "stdout",
     "output_type": "stream",
     "text": [
      "5\n"
     ]
    }
   ],
   "source": [
    "ocean_proxi_unique = data.ocean_proximity.unique()\n",
    "print(len(ocean_proxi_unique))"
   ]
  },
  {
   "cell_type": "markdown",
   "id": "83ca6b8e",
   "metadata": {},
   "source": [
    "### `Q5`\n",
    "What's the average value of the median_house_value for the houses located near the bay?"
   ]
  },
  {
   "cell_type": "code",
   "execution_count": 33,
   "id": "6fc623e6",
   "metadata": {},
   "outputs": [
    {
     "name": "stdout",
     "output_type": "stream",
     "text": [
      "259212.0\n"
     ]
    }
   ],
   "source": [
    "ave = data.loc[data['ocean_proximity']== 'NEAR BAY', 'median_house_value'].mean()\n",
    "print(round(ave, 0))"
   ]
  },
  {
   "cell_type": "markdown",
   "id": "158147fb",
   "metadata": {},
   "source": [
    "### `Q6`\n",
    "1. Calculate the average of `total_bedrooms` column in the dataset"
   ]
  },
  {
   "cell_type": "code",
   "execution_count": 36,
   "id": "a1e8e6df",
   "metadata": {},
   "outputs": [
    {
     "data": {
      "text/plain": [
       "537.8705525375618"
      ]
     },
     "execution_count": 36,
     "metadata": {},
     "output_type": "execute_result"
    }
   ],
   "source": [
    "ave_bedrooms = data['total_bedrooms'].mean()\n",
    "ave_bedrooms"
   ]
  },
  {
   "cell_type": "markdown",
   "id": "aae559da",
   "metadata": {},
   "source": [
    "2. Use the fillna method to fill the NA values in total_bedrooms with the mean value from the previous step."
   ]
  },
  {
   "cell_type": "code",
   "execution_count": 37,
   "id": "532ede0e",
   "metadata": {},
   "outputs": [],
   "source": [
    "data['total_bedrooms'].fillna(ave_bedrooms, inplace=True)"
   ]
  },
  {
   "cell_type": "markdown",
   "id": "aab393b2",
   "metadata": {},
   "source": [
    "3. Calculate the average of `total_bedrooms` again. Has it changed?"
   ]
  },
  {
   "cell_type": "code",
   "execution_count": 38,
   "id": "f828883f",
   "metadata": {},
   "outputs": [
    {
     "data": {
      "text/plain": [
       "537.8705525375617"
      ]
     },
     "execution_count": 38,
     "metadata": {},
     "output_type": "execute_result"
    }
   ],
   "source": [
    "data['total_bedrooms'].mean()"
   ]
  },
  {
   "cell_type": "markdown",
   "id": "4cc2c2bd",
   "metadata": {},
   "source": [
    "### `Q7`\n",
    "1. Select all the options located on islands"
   ]
  },
  {
   "cell_type": "code",
   "execution_count": 72,
   "id": "471a8c43",
   "metadata": {},
   "outputs": [
    {
     "data": {
      "text/html": [
       "<div>\n",
       "<style scoped>\n",
       "    .dataframe tbody tr th:only-of-type {\n",
       "        vertical-align: middle;\n",
       "    }\n",
       "\n",
       "    .dataframe tbody tr th {\n",
       "        vertical-align: top;\n",
       "    }\n",
       "\n",
       "    .dataframe thead th {\n",
       "        text-align: right;\n",
       "    }\n",
       "</style>\n",
       "<table border=\"1\" class=\"dataframe\">\n",
       "  <thead>\n",
       "    <tr style=\"text-align: right;\">\n",
       "      <th></th>\n",
       "      <th>longitude</th>\n",
       "      <th>latitude</th>\n",
       "      <th>housing_median_age</th>\n",
       "      <th>total_rooms</th>\n",
       "      <th>total_bedrooms</th>\n",
       "      <th>population</th>\n",
       "      <th>households</th>\n",
       "      <th>median_income</th>\n",
       "      <th>median_house_value</th>\n",
       "      <th>ocean_proximity</th>\n",
       "    </tr>\n",
       "  </thead>\n",
       "  <tbody>\n",
       "    <tr>\n",
       "      <th>8314</th>\n",
       "      <td>-118.32</td>\n",
       "      <td>33.35</td>\n",
       "      <td>27.0</td>\n",
       "      <td>1675.0</td>\n",
       "      <td>521.0</td>\n",
       "      <td>744.0</td>\n",
       "      <td>331.0</td>\n",
       "      <td>2.1579</td>\n",
       "      <td>450000.0</td>\n",
       "      <td>ISLAND</td>\n",
       "    </tr>\n",
       "    <tr>\n",
       "      <th>8315</th>\n",
       "      <td>-118.33</td>\n",
       "      <td>33.34</td>\n",
       "      <td>52.0</td>\n",
       "      <td>2359.0</td>\n",
       "      <td>591.0</td>\n",
       "      <td>1100.0</td>\n",
       "      <td>431.0</td>\n",
       "      <td>2.8333</td>\n",
       "      <td>414700.0</td>\n",
       "      <td>ISLAND</td>\n",
       "    </tr>\n",
       "    <tr>\n",
       "      <th>8316</th>\n",
       "      <td>-118.32</td>\n",
       "      <td>33.33</td>\n",
       "      <td>52.0</td>\n",
       "      <td>2127.0</td>\n",
       "      <td>512.0</td>\n",
       "      <td>733.0</td>\n",
       "      <td>288.0</td>\n",
       "      <td>3.3906</td>\n",
       "      <td>300000.0</td>\n",
       "      <td>ISLAND</td>\n",
       "    </tr>\n",
       "    <tr>\n",
       "      <th>8317</th>\n",
       "      <td>-118.32</td>\n",
       "      <td>33.34</td>\n",
       "      <td>52.0</td>\n",
       "      <td>996.0</td>\n",
       "      <td>264.0</td>\n",
       "      <td>341.0</td>\n",
       "      <td>160.0</td>\n",
       "      <td>2.7361</td>\n",
       "      <td>450000.0</td>\n",
       "      <td>ISLAND</td>\n",
       "    </tr>\n",
       "    <tr>\n",
       "      <th>8318</th>\n",
       "      <td>-118.48</td>\n",
       "      <td>33.43</td>\n",
       "      <td>29.0</td>\n",
       "      <td>716.0</td>\n",
       "      <td>214.0</td>\n",
       "      <td>422.0</td>\n",
       "      <td>173.0</td>\n",
       "      <td>2.6042</td>\n",
       "      <td>287500.0</td>\n",
       "      <td>ISLAND</td>\n",
       "    </tr>\n",
       "  </tbody>\n",
       "</table>\n",
       "</div>"
      ],
      "text/plain": [
       "      longitude  latitude  housing_median_age  total_rooms  total_bedrooms  \\\n",
       "8314    -118.32     33.35                27.0       1675.0           521.0   \n",
       "8315    -118.33     33.34                52.0       2359.0           591.0   \n",
       "8316    -118.32     33.33                52.0       2127.0           512.0   \n",
       "8317    -118.32     33.34                52.0        996.0           264.0   \n",
       "8318    -118.48     33.43                29.0        716.0           214.0   \n",
       "\n",
       "      population  households  median_income  median_house_value  \\\n",
       "8314       744.0       331.0         2.1579            450000.0   \n",
       "8315      1100.0       431.0         2.8333            414700.0   \n",
       "8316       733.0       288.0         3.3906            300000.0   \n",
       "8317       341.0       160.0         2.7361            450000.0   \n",
       "8318       422.0       173.0         2.6042            287500.0   \n",
       "\n",
       "     ocean_proximity  \n",
       "8314          ISLAND  \n",
       "8315          ISLAND  \n",
       "8316          ISLAND  \n",
       "8317          ISLAND  \n",
       "8318          ISLAND  "
      ]
     },
     "execution_count": 72,
     "metadata": {},
     "output_type": "execute_result"
    }
   ],
   "source": [
    "all_islands = data[data['ocean_proximity'] =='ISLAND']\n",
    "all_islands.head()"
   ]
  },
  {
   "cell_type": "markdown",
   "id": "5b101337",
   "metadata": {},
   "source": [
    "2. Select only columns `housing_median_age`, `total_rooms`, `total_bedrooms`"
   ]
  },
  {
   "cell_type": "code",
   "execution_count": 73,
   "id": "eeaa8814",
   "metadata": {},
   "outputs": [
    {
     "data": {
      "text/html": [
       "<div>\n",
       "<style scoped>\n",
       "    .dataframe tbody tr th:only-of-type {\n",
       "        vertical-align: middle;\n",
       "    }\n",
       "\n",
       "    .dataframe tbody tr th {\n",
       "        vertical-align: top;\n",
       "    }\n",
       "\n",
       "    .dataframe thead th {\n",
       "        text-align: right;\n",
       "    }\n",
       "</style>\n",
       "<table border=\"1\" class=\"dataframe\">\n",
       "  <thead>\n",
       "    <tr style=\"text-align: right;\">\n",
       "      <th></th>\n",
       "      <th>housing_median_age</th>\n",
       "      <th>total_rooms</th>\n",
       "      <th>total_bedrooms</th>\n",
       "    </tr>\n",
       "  </thead>\n",
       "  <tbody>\n",
       "    <tr>\n",
       "      <th>8314</th>\n",
       "      <td>27.0</td>\n",
       "      <td>1675.0</td>\n",
       "      <td>521.0</td>\n",
       "    </tr>\n",
       "    <tr>\n",
       "      <th>8315</th>\n",
       "      <td>52.0</td>\n",
       "      <td>2359.0</td>\n",
       "      <td>591.0</td>\n",
       "    </tr>\n",
       "    <tr>\n",
       "      <th>8316</th>\n",
       "      <td>52.0</td>\n",
       "      <td>2127.0</td>\n",
       "      <td>512.0</td>\n",
       "    </tr>\n",
       "    <tr>\n",
       "      <th>8317</th>\n",
       "      <td>52.0</td>\n",
       "      <td>996.0</td>\n",
       "      <td>264.0</td>\n",
       "    </tr>\n",
       "    <tr>\n",
       "      <th>8318</th>\n",
       "      <td>29.0</td>\n",
       "      <td>716.0</td>\n",
       "      <td>214.0</td>\n",
       "    </tr>\n",
       "  </tbody>\n",
       "</table>\n",
       "</div>"
      ],
      "text/plain": [
       "      housing_median_age  total_rooms  total_bedrooms\n",
       "8314                27.0       1675.0           521.0\n",
       "8315                52.0       2359.0           591.0\n",
       "8316                52.0       2127.0           512.0\n",
       "8317                52.0        996.0           264.0\n",
       "8318                29.0        716.0           214.0"
      ]
     },
     "execution_count": 73,
     "metadata": {},
     "output_type": "execute_result"
    }
   ],
   "source": [
    "filtered = all_islands[['housing_median_age', 'total_rooms', 'total_bedrooms']]\n",
    "filtered.head()"
   ]
  },
  {
   "cell_type": "markdown",
   "id": "2d723a5d",
   "metadata": {},
   "source": [
    "3. Get the underlying NumPy Array. Let's call it `x`"
   ]
  },
  {
   "cell_type": "code",
   "execution_count": 74,
   "id": "d725a0e9",
   "metadata": {},
   "outputs": [
    {
     "data": {
      "text/plain": [
       "array([[  27., 1675.,  521.],\n",
       "       [  52., 2359.,  591.],\n",
       "       [  52., 2127.,  512.],\n",
       "       [  52.,  996.,  264.],\n",
       "       [  29.,  716.,  214.]])"
      ]
     },
     "execution_count": 74,
     "metadata": {},
     "output_type": "execute_result"
    }
   ],
   "source": [
    "x = filtered.values\n",
    "x"
   ]
  },
  {
   "cell_type": "markdown",
   "id": "66715b77",
   "metadata": {},
   "source": [
    "4. Compute matrix-matrix multiplication between the transpose of X and `X`.<br> \n",
    "Let's call the result `XTX`."
   ]
  },
  {
   "cell_type": "code",
   "execution_count": 75,
   "id": "c7c381d6",
   "metadata": {},
   "outputs": [
    {
     "name": "stdout",
     "output_type": "stream",
     "text": [
      "[[3077795. 4260640. 3830881. 1807248. 1311577.]\n",
      " [4260640. 5916866. 5322889. 2508292. 1817026.]\n",
      " [3830881. 5322889. 4788977. 2256364. 1634008.]\n",
      " [1807248. 2508292. 2256364. 1064416.  771140.]\n",
      " [1311577. 1817026. 1634008.  771140.  559293.]]\n"
     ]
    }
   ],
   "source": [
    "# Transpose of 'x'\n",
    "x_transpose = x.T\n",
    "\n",
    "# Compute the matrix-matrix multiplication between 'x_transpose' and 'x'\n",
    "xTx = x @ x_transpose\n",
    "print(xTx)"
   ]
  },
  {
   "cell_type": "markdown",
   "id": "ca11c936",
   "metadata": {},
   "source": [
    "5. Compute the inverse of `xTx`"
   ]
  },
  {
   "cell_type": "code",
   "execution_count": 76,
   "id": "3b1bcc34",
   "metadata": {},
   "outputs": [
    {
     "name": "stdout",
     "output_type": "stream",
     "text": [
      "[[ 4.50889141e+08 -2.65092831e+09  2.66146909e+09 -5.26157398e+08\n",
      "   5.04760603e+08]\n",
      " [ 2.60444475e+11 -8.57212683e+10 -2.18771394e+10  5.28097320e+11\n",
      "  -9.96480838e+11]\n",
      " [-2.81125831e+11  9.36268739e+10  2.24292933e+10 -5.69400064e+11\n",
      "   1.07463035e+12]\n",
      " [ 1.50907516e+11 -5.52172767e+10 -6.69134384e+09  3.02798151e+11\n",
      "  -5.72439948e+11]\n",
      " [-2.33928769e+11  8.73028262e+10  8.53028316e+09 -4.68398445e+11\n",
      "   8.85843939e+11]]\n"
     ]
    }
   ],
   "source": [
    "# Inverse of xTx\n",
    "inverse_xTx = np.linalg.inv(xTx)\n",
    "print(inverse_xTx)"
   ]
  },
  {
   "cell_type": "markdown",
   "id": "50ffbdd4",
   "metadata": {},
   "source": [
    "6. Create an array `y` with values: `[950, 1300, 800, 1000, 1300]`"
   ]
  },
  {
   "cell_type": "code",
   "execution_count": 81,
   "id": "f6415d49",
   "metadata": {},
   "outputs": [
    {
     "data": {
      "text/plain": [
       "array([ 950, 1300,  800, 1000, 1300])"
      ]
     },
     "execution_count": 81,
     "metadata": {},
     "output_type": "execute_result"
    }
   ],
   "source": [
    "y = np.array([950, 1300, 800, 1000, 1300])\n",
    "y_reshaped = y.reshape(-1,1)\n",
    "y"
   ]
  },
  {
   "cell_type": "markdown",
   "id": "7db66d67",
   "metadata": {},
   "source": [
    "7. Multiply inverse of `xTx` with the transpose of `x`. Then multiply the result by `y`.<br>\n",
    "Call this `w`"
   ]
  },
  {
   "cell_type": "code",
   "execution_count": 93,
   "id": "fe7b9e77",
   "metadata": {},
   "outputs": [
    {
     "name": "stdout",
     "output_type": "stream",
     "text": [
      "Matrices' shapes:\n",
      "(5, 5)\n",
      "(3, 5)\n",
      "(5, 1) \n",
      "\n"
     ]
    },
    {
     "data": {
      "text/plain": [
       "array([[  15.87753296],\n",
       "       [-141.87927246],\n",
       "       [ -28.7399292 ]])"
      ]
     },
     "execution_count": 93,
     "metadata": {},
     "output_type": "execute_result"
    }
   ],
   "source": [
    "# Matrices shapes\n",
    "newline= '\\n'\n",
    "print(f\"Matrices' shapes:{newline}{inverse_xTx.shape}\")\n",
    "print(x_transpose.shape)\n",
    "print(y_reshaped.shape, '\\n')\n",
    "result = x_transpose @ inverse_xTx \n",
    "w = result @ y_reshaped\n",
    "w"
   ]
  },
  {
   "cell_type": "markdown",
   "id": "1040499d",
   "metadata": {},
   "source": [
    "8. Whats' the value of the last element of `w`?"
   ]
  },
  {
   "cell_type": "code",
   "execution_count": 89,
   "id": "f8e410f2",
   "metadata": {},
   "outputs": [
    {
     "data": {
      "text/plain": [
       "array([-28.7399292])"
      ]
     },
     "execution_count": 89,
     "metadata": {},
     "output_type": "execute_result"
    }
   ],
   "source": [
    "w[-1]"
   ]
  },
  {
   "cell_type": "markdown",
   "id": "710769e1",
   "metadata": {},
   "source": [
    "-------------------------------------"
   ]
  },
  {
   "cell_type": "code",
   "execution_count": null,
   "id": "640cef49",
   "metadata": {},
   "outputs": [],
   "source": []
  },
  {
   "cell_type": "code",
   "execution_count": null,
   "id": "064f75d8",
   "metadata": {},
   "outputs": [],
   "source": []
  }
 ],
 "metadata": {
  "kernelspec": {
   "display_name": "Python 3 (ipykernel)",
   "language": "python",
   "name": "python3"
  },
  "language_info": {
   "codemirror_mode": {
    "name": "ipython",
    "version": 3
   },
   "file_extension": ".py",
   "mimetype": "text/x-python",
   "name": "python",
   "nbconvert_exporter": "python",
   "pygments_lexer": "ipython3",
   "version": "3.11.4"
  }
 },
 "nbformat": 4,
 "nbformat_minor": 5
}
