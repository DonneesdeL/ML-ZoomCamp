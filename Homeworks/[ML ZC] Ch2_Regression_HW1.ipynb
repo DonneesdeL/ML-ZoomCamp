{
 "cells": [
  {
   "cell_type": "markdown",
   "id": "7469288c-fcf9-4130-bb80-6c02d0f943f6",
   "metadata": {},
   "source": [
    "# `Machine Learning ZoomCamp`\n",
    "## `HW1_Chapter 2: Regression`\n",
    "\n",
    "### Aileah Gotladera\n",
    "-----------------------------------"
   ]
  },
  {
   "cell_type": "code",
   "execution_count": 85,
   "id": "576178c9-9ec3-4b12-9e2a-904e7137ac8d",
   "metadata": {
    "tags": []
   },
   "outputs": [],
   "source": [
    "# Check environment\n",
    "# import sys\n",
    "# print(sys.executable)\n",
    "\n",
    "\n",
    "import numpy as np\n",
    "import pandas as pd\n",
    "from sklearn.impute import SimpleImputer\n",
    "from sklearn.metrics import mean_squared_error\n",
    "from sklearn.model_selection import train_test_split\n",
    "from sklearn.linear_model import LinearRegression, Ridge"
   ]
  },
  {
   "cell_type": "markdown",
   "id": "8d0b45b2-2df6-46b7-9aa0-90186fbe02d5",
   "metadata": {},
   "source": [
    "The goal of this homework is to create a regression model for predicting housing prices (column `median_house_value`)\n",
    "\n",
    "### **Loading the dataset and EDA**\n",
    "*For this homework, we only want to use a subset of data.*\n",
    "\n",
    "First, keep only the records where ocean_proximity is either `<1H OCEAN` or `INLAND`\n",
    "\n",
    "Only use the following columns:\n",
    "* `latitude`,\n",
    "* `longitude`,\n",
    "* `housing_median_age`,\n",
    "* `total_rooms`,\n",
    "* `total_bedrooms`,\n",
    "* `population`,\n",
    "* `households`,\n",
    "* `median_income`,\n",
    "* `median_house_value`'"
   ]
  },
  {
   "cell_type": "code",
   "execution_count": 28,
   "id": "f9144784-d8f2-4541-ba84-545a16372950",
   "metadata": {
    "tags": []
   },
   "outputs": [
    {
     "data": {
      "text/html": [
       "<div>\n",
       "<style scoped>\n",
       "    .dataframe tbody tr th:only-of-type {\n",
       "        vertical-align: middle;\n",
       "    }\n",
       "\n",
       "    .dataframe tbody tr th {\n",
       "        vertical-align: top;\n",
       "    }\n",
       "\n",
       "    .dataframe thead th {\n",
       "        text-align: right;\n",
       "    }\n",
       "</style>\n",
       "<table border=\"1\" class=\"dataframe\">\n",
       "  <thead>\n",
       "    <tr style=\"text-align: right;\">\n",
       "      <th></th>\n",
       "      <th>longitude</th>\n",
       "      <th>latitude</th>\n",
       "      <th>housing_median_age</th>\n",
       "      <th>total_rooms</th>\n",
       "      <th>total_bedrooms</th>\n",
       "      <th>population</th>\n",
       "      <th>households</th>\n",
       "      <th>median_income</th>\n",
       "      <th>median_house_value</th>\n",
       "      <th>ocean_proximity</th>\n",
       "    </tr>\n",
       "  </thead>\n",
       "  <tbody>\n",
       "    <tr>\n",
       "      <th>0</th>\n",
       "      <td>-122.23</td>\n",
       "      <td>37.88</td>\n",
       "      <td>41.0</td>\n",
       "      <td>880.0</td>\n",
       "      <td>129.0</td>\n",
       "      <td>322.0</td>\n",
       "      <td>126.0</td>\n",
       "      <td>8.3252</td>\n",
       "      <td>452600.0</td>\n",
       "      <td>NEAR BAY</td>\n",
       "    </tr>\n",
       "    <tr>\n",
       "      <th>1</th>\n",
       "      <td>-122.22</td>\n",
       "      <td>37.86</td>\n",
       "      <td>21.0</td>\n",
       "      <td>7099.0</td>\n",
       "      <td>1106.0</td>\n",
       "      <td>2401.0</td>\n",
       "      <td>1138.0</td>\n",
       "      <td>8.3014</td>\n",
       "      <td>358500.0</td>\n",
       "      <td>NEAR BAY</td>\n",
       "    </tr>\n",
       "    <tr>\n",
       "      <th>2</th>\n",
       "      <td>-122.24</td>\n",
       "      <td>37.85</td>\n",
       "      <td>52.0</td>\n",
       "      <td>1467.0</td>\n",
       "      <td>190.0</td>\n",
       "      <td>496.0</td>\n",
       "      <td>177.0</td>\n",
       "      <td>7.2574</td>\n",
       "      <td>352100.0</td>\n",
       "      <td>NEAR BAY</td>\n",
       "    </tr>\n",
       "    <tr>\n",
       "      <th>3</th>\n",
       "      <td>-122.25</td>\n",
       "      <td>37.85</td>\n",
       "      <td>52.0</td>\n",
       "      <td>1274.0</td>\n",
       "      <td>235.0</td>\n",
       "      <td>558.0</td>\n",
       "      <td>219.0</td>\n",
       "      <td>5.6431</td>\n",
       "      <td>341300.0</td>\n",
       "      <td>NEAR BAY</td>\n",
       "    </tr>\n",
       "    <tr>\n",
       "      <th>4</th>\n",
       "      <td>-122.25</td>\n",
       "      <td>37.85</td>\n",
       "      <td>52.0</td>\n",
       "      <td>1627.0</td>\n",
       "      <td>280.0</td>\n",
       "      <td>565.0</td>\n",
       "      <td>259.0</td>\n",
       "      <td>3.8462</td>\n",
       "      <td>342200.0</td>\n",
       "      <td>NEAR BAY</td>\n",
       "    </tr>\n",
       "  </tbody>\n",
       "</table>\n",
       "</div>"
      ],
      "text/plain": [
       "   longitude  latitude  housing_median_age  total_rooms  total_bedrooms  \\\n",
       "0    -122.23     37.88                41.0        880.0           129.0   \n",
       "1    -122.22     37.86                21.0       7099.0          1106.0   \n",
       "2    -122.24     37.85                52.0       1467.0           190.0   \n",
       "3    -122.25     37.85                52.0       1274.0           235.0   \n",
       "4    -122.25     37.85                52.0       1627.0           280.0   \n",
       "\n",
       "   population  households  median_income  median_house_value ocean_proximity  \n",
       "0       322.0       126.0         8.3252            452600.0        NEAR BAY  \n",
       "1      2401.0      1138.0         8.3014            358500.0        NEAR BAY  \n",
       "2       496.0       177.0         7.2574            352100.0        NEAR BAY  \n",
       "3       558.0       219.0         5.6431            341300.0        NEAR BAY  \n",
       "4       565.0       259.0         3.8462            342200.0        NEAR BAY  "
      ]
     },
     "execution_count": 28,
     "metadata": {},
     "output_type": "execute_result"
    }
   ],
   "source": [
    "data = pd.read_csv('ch2_Regression_hw1data.csv')\n",
    "data.head()"
   ]
  },
  {
   "cell_type": "code",
   "execution_count": 29,
   "id": "d861d38c-d76a-4898-be9a-24f562f070a1",
   "metadata": {
    "tags": []
   },
   "outputs": [
    {
     "data": {
      "text/html": [
       "<div>\n",
       "<style scoped>\n",
       "    .dataframe tbody tr th:only-of-type {\n",
       "        vertical-align: middle;\n",
       "    }\n",
       "\n",
       "    .dataframe tbody tr th {\n",
       "        vertical-align: top;\n",
       "    }\n",
       "\n",
       "    .dataframe thead th {\n",
       "        text-align: right;\n",
       "    }\n",
       "</style>\n",
       "<table border=\"1\" class=\"dataframe\">\n",
       "  <thead>\n",
       "    <tr style=\"text-align: right;\">\n",
       "      <th></th>\n",
       "      <th>longitude</th>\n",
       "      <th>latitude</th>\n",
       "      <th>housing_median_age</th>\n",
       "      <th>total_rooms</th>\n",
       "      <th>total_bedrooms</th>\n",
       "      <th>population</th>\n",
       "      <th>households</th>\n",
       "      <th>median_income</th>\n",
       "      <th>median_house_value</th>\n",
       "    </tr>\n",
       "  </thead>\n",
       "  <tbody>\n",
       "    <tr>\n",
       "      <th>701</th>\n",
       "      <td>-121.97</td>\n",
       "      <td>37.64</td>\n",
       "      <td>32.0</td>\n",
       "      <td>1283.0</td>\n",
       "      <td>194.0</td>\n",
       "      <td>485.0</td>\n",
       "      <td>171.0</td>\n",
       "      <td>6.0574</td>\n",
       "      <td>431000.0</td>\n",
       "    </tr>\n",
       "    <tr>\n",
       "      <th>830</th>\n",
       "      <td>-121.99</td>\n",
       "      <td>37.61</td>\n",
       "      <td>9.0</td>\n",
       "      <td>3666.0</td>\n",
       "      <td>711.0</td>\n",
       "      <td>2341.0</td>\n",
       "      <td>703.0</td>\n",
       "      <td>4.6458</td>\n",
       "      <td>217000.0</td>\n",
       "    </tr>\n",
       "    <tr>\n",
       "      <th>859</th>\n",
       "      <td>-121.97</td>\n",
       "      <td>37.57</td>\n",
       "      <td>21.0</td>\n",
       "      <td>4342.0</td>\n",
       "      <td>783.0</td>\n",
       "      <td>2172.0</td>\n",
       "      <td>789.0</td>\n",
       "      <td>4.6146</td>\n",
       "      <td>247600.0</td>\n",
       "    </tr>\n",
       "    <tr>\n",
       "      <th>860</th>\n",
       "      <td>-121.96</td>\n",
       "      <td>37.58</td>\n",
       "      <td>15.0</td>\n",
       "      <td>3575.0</td>\n",
       "      <td>597.0</td>\n",
       "      <td>1777.0</td>\n",
       "      <td>559.0</td>\n",
       "      <td>5.7192</td>\n",
       "      <td>283500.0</td>\n",
       "    </tr>\n",
       "    <tr>\n",
       "      <th>861</th>\n",
       "      <td>-121.98</td>\n",
       "      <td>37.58</td>\n",
       "      <td>20.0</td>\n",
       "      <td>4126.0</td>\n",
       "      <td>1031.0</td>\n",
       "      <td>2079.0</td>\n",
       "      <td>975.0</td>\n",
       "      <td>3.6832</td>\n",
       "      <td>216900.0</td>\n",
       "    </tr>\n",
       "  </tbody>\n",
       "</table>\n",
       "</div>"
      ],
      "text/plain": [
       "     longitude  latitude  housing_median_age  total_rooms  total_bedrooms  \\\n",
       "701    -121.97     37.64                32.0       1283.0           194.0   \n",
       "830    -121.99     37.61                 9.0       3666.0           711.0   \n",
       "859    -121.97     37.57                21.0       4342.0           783.0   \n",
       "860    -121.96     37.58                15.0       3575.0           597.0   \n",
       "861    -121.98     37.58                20.0       4126.0          1031.0   \n",
       "\n",
       "     population  households  median_income  median_house_value  \n",
       "701       485.0       171.0         6.0574            431000.0  \n",
       "830      2341.0       703.0         4.6458            217000.0  \n",
       "859      2172.0       789.0         4.6146            247600.0  \n",
       "860      1777.0       559.0         5.7192            283500.0  \n",
       "861      2079.0       975.0         3.6832            216900.0  "
      ]
     },
     "execution_count": 29,
     "metadata": {},
     "output_type": "execute_result"
    }
   ],
   "source": [
    "data['ocean_proximity'].unique()\n",
    "data = data[(data['ocean_proximity'] == '<1H OCEAN') | (data['ocean_proximity'] == 'INLAND')]\n",
    "\n",
    "data = data.drop('ocean_proximity', axis=1)\n",
    "data.head()"
   ]
  },
  {
   "cell_type": "markdown",
   "id": "d267891d-165f-4556-b7ef-a29426146cd2",
   "metadata": {},
   "source": [
    "## **`Q1`**\n",
    "* There's 1 feature with missing values. What is it?"
   ]
  },
  {
   "cell_type": "code",
   "execution_count": 30,
   "id": "a582d3b8-6d00-44e2-9dcc-2ef6744a4742",
   "metadata": {
    "tags": []
   },
   "outputs": [
    {
     "data": {
      "text/plain": [
       "longitude               0\n",
       "latitude                0\n",
       "housing_median_age      0\n",
       "total_rooms             0\n",
       "total_bedrooms        157\n",
       "population              0\n",
       "households              0\n",
       "median_income           0\n",
       "median_house_value      0\n",
       "dtype: int64"
      ]
     },
     "execution_count": 30,
     "metadata": {},
     "output_type": "execute_result"
    }
   ],
   "source": [
    "data.isnull().sum()"
   ]
  },
  {
   "cell_type": "code",
   "execution_count": 31,
   "id": "aed4a0a6-261d-47c0-9cad-64dd90ae6394",
   "metadata": {
    "tags": []
   },
   "outputs": [
    {
     "name": "stdout",
     "output_type": "stream",
     "text": [
      "Q1 Answer: total_bedrooms\n"
     ]
    }
   ],
   "source": [
    "print('Q1 Answer: total_bedrooms')"
   ]
  },
  {
   "cell_type": "markdown",
   "id": "34f5cbb2-7d72-4a7c-a871-bf172cacb6a2",
   "metadata": {},
   "source": [
    "## **`Q2`**\n",
    "* What's the median (50% percentile) for variable `population`?"
   ]
  },
  {
   "cell_type": "code",
   "execution_count": 82,
   "id": "3ccb5e92-b06b-4933-8cb5-62a8e28d15a3",
   "metadata": {
    "tags": []
   },
   "outputs": [
    {
     "name": "stdout",
     "output_type": "stream",
     "text": [
      "Q2 Answer: 1195.0\n"
     ]
    }
   ],
   "source": [
    "median_population = data['population'].median()\n",
    "print(f'Q2 Answer: {median_population}')"
   ]
  },
  {
   "cell_type": "markdown",
   "id": "12a41de7-96bc-4dba-a945-990c2a7b38e3",
   "metadata": {},
   "source": [
    "### **Prepare and split the dataset**\n",
    "\n",
    "* Shuffle the dataset (the filtered one you created above), use seed `42`.\n",
    "* Split your data in train/val/test sets, with 60%/20%/20% distribution.\n",
    "* Apply the log transformation to the `median_house_value` variable using the `np.log1p()` function."
   ]
  },
  {
   "cell_type": "code",
   "execution_count": 33,
   "id": "c6ea4162-34a8-44ef-93a0-1d16a63dd1c6",
   "metadata": {
    "tags": []
   },
   "outputs": [],
   "source": [
    "import numpy as np\n",
    "from sklearn.model_selection import train_test_split\n",
    "\n",
    "# Shuffle the dataset with seed 42\n",
    "data_shuffled = data.sample(frac=1, random_state=42)\n",
    "\n",
    "# Split the data into train/val/test sets (60%/20%/20%)\n",
    "train_ratio = 0.6\n",
    "val_ratio = 0.2\n",
    "test_ratio = 0.2\n",
    "\n",
    "train_data, temp_data = train_test_split(data_shuffled, test_size=1 - train_ratio, random_state=42)\n",
    "val_data, test_data = train_test_split(temp_data, test_size=test_ratio / (test_ratio + val_ratio), random_state=42)\n",
    "\n",
    "# Apply log transformation to 'median_house_value'\n",
    "train_data['median_house_value'] = np.log1p(train_data['median_house_value'])\n",
    "val_data['median_house_value'] = np.log1p(val_data['median_house_value'])\n",
    "test_data['median_house_value'] = np.log1p(test_data['median_house_value'])"
   ]
  },
  {
   "cell_type": "markdown",
   "id": "0867ab30-8b22-4f1b-ad34-25195d300e25",
   "metadata": {},
   "source": [
    "## **`Q3`**\n",
    "* We need to deal with missing values for the column from Q1.\n",
    "* We have two options: fill it with 0 or with the mean of this variable.\n",
    "* Try both options. For each, train a linear regression model without regularization using the code from the lessons.\n",
    "* For computing the mean, use the training only!\n",
    "* Use the validation dataset to evaluate the models and compare the RMSE of each option.\n",
    "* Round the RMSE scores to 2 decimal digits using round(score, 2)\n",
    "* Which option gives better RMSE?"
   ]
  },
  {
   "cell_type": "code",
   "execution_count": 52,
   "id": "e14f79a9-33e6-4af1-9a9b-f852d920c587",
   "metadata": {
    "tags": []
   },
   "outputs": [
    {
     "name": "stdout",
     "output_type": "stream",
     "text": [
      "Quesiton 3 Answer\n",
      "RMSE with Zero: 0.35\n",
      "RMSE with MEAN: 0.35\n"
     ]
    }
   ],
   "source": [
    "# Fill missing values with 0\n",
    "train_zero = train_data.copy()\n",
    "train_zero['total_bedrooms'].fillna(0, inplace=True)\n",
    "\n",
    "val_zero = val_data.copy()\n",
    "val_zero['total_bedrooms'].fillna(0, inplace=True)\n",
    "\n",
    "# Mean\n",
    "mean_value = train_data['total_bedrooms'].mean()\n",
    "train_mean = train_data.copy()\n",
    "train_mean['total_bedrooms'].fillna(mean_value, inplace=True)\n",
    "\n",
    "val_mean = val_data.copy()\n",
    "val_mean['total_bedrooms'].fillna(mean_value, inplace=True)\n",
    "\n",
    "Xtrain_zero = train_zero.drop('median_house_value', axis=1)\n",
    "ytrain_zero = train_zero['median_house_value']\n",
    "\n",
    "Xval_zero = val_zero.drop('median_house_value', axis=1)\n",
    "yval_zero = val_zero['median_house_value']\n",
    "\n",
    "model_zero = LinearRegression()\n",
    "model_zero.fit(Xtrain_zero, ytrain_zero)\n",
    "ypred_zero = model_zero.predict(Xval_zero)\n",
    "rmse_zero = np.sqrt(mean_squared_error(yval_zero, ypred_zero))\n",
    "\n",
    "## Mean\n",
    "Xtrain_mean = train_mean.drop('median_house_value', axis=1)\n",
    "ytrain_mean = train_mean['median_house_value']\n",
    "\n",
    "Xval_mean = val_mean.drop('median_house_value', axis=1)\n",
    "yval_mean = val_mean['median_house_value']\n",
    "\n",
    "model_mean = LinearRegression()\n",
    "model_mean.fit(Xtrain_mean, ytrain_mean)\n",
    "ypred_mean = model_zero.predict(Xval_mean)\n",
    "rmse_mean = np.sqrt(mean_squared_error(yval_mean, ypred_mean))\n",
    "\n",
    "print('Quesiton 3 Answer')\n",
    "print(f'RMSE with Zero: {round(rmse_zero, 2)}')\n",
    "print(f'RMSE with MEAN: {round(rmse_mean, 2)}')"
   ]
  },
  {
   "cell_type": "markdown",
   "id": "51e6c5b2-74d6-4055-81a9-aeabc17ad7d9",
   "metadata": {},
   "source": [
    "## **`Q4`**"
   ]
  },
  {
   "cell_type": "markdown",
   "id": "427976fa-6b3c-4384-94db-9eaa648a0071",
   "metadata": {
    "tags": []
   },
   "source": [
    "* Now let's train a regularized linear regression.\n",
    "* For this question, fill the NAs with 0.\n",
    "*Try different values of r from this list: [0, 0.000001, 0.0001, 0.001, 0.01, 0.1, 1, 5, 10].\n",
    "* Use RMSE to evaluate the model on the validation dataset.\n",
    "* Round the RMSE scores to 2 decimal digits.\n",
    "* Which r gives the best RMSE?\n",
    "\n",
    "*If there are multiple options, select the smallest r.*\n",
    "\n",
    "Options:\n",
    "\n",
    "- 0\n",
    "- 0.000001\n",
    "- 0.001\n",
    "- 0.0001"
   ]
  },
  {
   "cell_type": "code",
   "execution_count": 86,
   "id": "ea277b51-e71b-4b98-a286-9290578a6f39",
   "metadata": {
    "tags": []
   },
   "outputs": [
    {
     "name": "stdout",
     "output_type": "stream",
     "text": [
      "Question 4 Answer\n",
      "Best r value: 0\n"
     ]
    }
   ],
   "source": [
    "alphas = [0, 0.000001, 0.0001, 0.001, 0.01, 0.1, 1, 5, 10]\n",
    "best_rmse = float('inf')\n",
    "best_r = None\n",
    "\n",
    "for alpha in alphas:\n",
    "    ridge= Ridge(alpha=alpha)\n",
    "    ridge.fit(Xtrain_zero, ytrain_zero)\n",
    "    y_pred = ridge.predict(Xval_zero)\n",
    "    mse1 = mean_squared_error(yval_zero, y_pred)\n",
    "    if mse1 < best_rmse:\n",
    "        best_rmse = mse1\n",
    "        best_r = alpha\n",
    "\n",
    "print('Question 4 Answer')\n",
    "print(\"Best r value:\", best_r)\n",
    "     "
   ]
  },
  {
   "cell_type": "markdown",
   "id": "824f7c04-a9c4-4db7-8778-2a859733dd14",
   "metadata": {},
   "source": [
    "## **`Q5`**\n",
    "- We used seed 42 for splitting the data. Let's find out how selecting the seed influences our score.\n",
    "- Try different seed values: [0, 1, 2, 3, 4, 5, 6, 7, 8, 9].\n",
    "- For each seed, do the train/validation/test split with 60%/20%/20% distribution.\n",
    "- Fill the missing values with 0 and train a model without regularization.\n",
    "- For each seed, evaluate the model on the validation dataset and collect the RMSE scores.\n",
    "- What's the standard deviation of all the scores? To compute the standard deviation, use np.std.\n",
    "- Round the result to 3 decimal digits (round(std, 3)) <br>\n",
    "\n",
    "What's the value of std?\n",
    "- 0.5\n",
    "- 0.05\n",
    "- 0.005\n",
    "- 0.0005"
   ]
  },
  {
   "cell_type": "code",
   "execution_count": 87,
   "id": "76db959b-4003-492e-97ce-dec1a6f54dcd",
   "metadata": {
    "tags": []
   },
   "outputs": [
    {
     "name": "stdout",
     "output_type": "stream",
     "text": [
      "Question 5 Answer\n",
      "Standard deviation of RMSE scores: 0.006\n"
     ]
    }
   ],
   "source": [
    "seeds = [0, 1, 2, 3, 4, 5, 6, 7, 8, 9]\n",
    "rmse_scores = []\n",
    "\n",
    "for seed in seeds:\n",
    "    new_data = data.sample(frac=1, random_state=seed)\n",
    "    train_data, temp_data = train_test_split(new_data, test_size=0.4, random_state=seed)\n",
    "    val_data, test_data = train_test_split(temp_data, test_size=0.5, random_state=seed)\n",
    "\n",
    "    # Apply log transformation\n",
    "    train_data['median_house_value'] = np.log1p(train_data['median_house_value'])\n",
    "    val_data['median_house_value'] = np.log1p(val_data['median_house_value'])\n",
    "\n",
    "    # Filling missing values with 0\n",
    "    train_data['total_bedrooms'].fillna(0, inplace=True)\n",
    "    val_data['total_bedrooms'].fillna(0, inplace=True)\n",
    "\n",
    "    # Training the model\n",
    "    X_train = train_data.drop('median_house_value', axis=1)\n",
    "    y_train = train_data['median_house_value']\n",
    "    X_val = val_data.drop('median_house_value', axis=1)\n",
    "    y_val = val_data['median_house_value']\n",
    "\n",
    "    model = LinearRegression()\n",
    "    model.fit(X_train, y_train)\n",
    "    y_pred = model.predict(X_val)\n",
    "    rmse_scores.append(rmse(y_val, y_pred))\n",
    "\n",
    "std_rmse = round(np.std(rmse_scores), 3)\n",
    "\n",
    "print('Question 5 Answer')\n",
    "print(\"Standard deviation of RMSE scores:\", std_rmse)"
   ]
  },
  {
   "cell_type": "markdown",
   "id": "ecf9fed6-e94e-4460-a49f-679b00485f98",
   "metadata": {},
   "source": [
    "## **`Q6`**"
   ]
  },
  {
   "cell_type": "code",
   "execution_count": 88,
   "id": "75dc7c07-4a8e-49c6-8060-5f1d95a6a43e",
   "metadata": {
    "tags": []
   },
   "outputs": [
    {
     "name": "stdout",
     "output_type": "stream",
     "text": [
      "Question 6 Answer\n",
      "RMSE on the test dataset: 0.33\n"
     ]
    }
   ],
   "source": [
    "new_data = data.sample(frac=1, random_state=9)\n",
    "train_data, temp_data = train_test_split(new_data, test_size=0.4, random_state=9)\n",
    "val_data, test_data = train_test_split(temp_data, test_size=0.5, random_state=9)\n",
    "\n",
    "\n",
    "train_combined = pd.concat([train_data, val_data])\n",
    "\n",
    "\n",
    "train_combined['median_house_value'] = np.log1p(train_combined['median_house_value'])\n",
    "test_data['median_house_value'] = np.log1p(test_data['median_house_value'])\n",
    "\n",
    "\n",
    "train_combined['total_bedrooms'].fillna(0, inplace=True)\n",
    "test_data['total_bedrooms'].fillna(0, inplace=True)\n",
    "\n",
    "\n",
    "X_train_combined = train_combined.drop('median_house_value', axis=1)\n",
    "y_train_combined = train_combined['median_house_value']\n",
    "X_test = test_data.drop('median_house_value', axis=1)\n",
    "y_test = test_data['median_house_value']\n",
    "\n",
    "model = Ridge(alpha=0.001)\n",
    "model.fit(X_train_combined, y_train_combined)\n",
    "y_pred_test = model.predict(X_test)\n",
    "rmse_test = round(rmse(y_test, y_pred_test), 2)\n",
    "\n",
    "print('Question 6 Answer')\n",
    "print(\"RMSE on the test dataset:\", rmse_test)"
   ]
  },
  {
   "cell_type": "markdown",
   "id": "42de4c12-57be-4934-8fd2-53051af06eb1",
   "metadata": {},
   "source": [
    "---------------"
   ]
  },
  {
   "cell_type": "code",
   "execution_count": null,
   "id": "60185b06-c29b-443b-ae03-4997c2b32b51",
   "metadata": {},
   "outputs": [],
   "source": []
  }
 ],
 "metadata": {
  "kernelspec": {
   "display_name": "Python 3 (ipykernel)",
   "language": "python",
   "name": "python3"
  },
  "language_info": {
   "codemirror_mode": {
    "name": "ipython",
    "version": 3
   },
   "file_extension": ".py",
   "mimetype": "text/x-python",
   "name": "python",
   "nbconvert_exporter": "python",
   "pygments_lexer": "ipython3",
   "version": "3.11.5"
  }
 },
 "nbformat": 4,
 "nbformat_minor": 5
}
