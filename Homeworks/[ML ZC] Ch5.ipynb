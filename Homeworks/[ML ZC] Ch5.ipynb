{
 "cells": [
  {
   "cell_type": "markdown",
   "id": "d8722686-9756-46ef-903c-35f63e336a00",
   "metadata": {},
   "source": [
    "# `Machine Learning ZoomCamp`\n",
    "## `HW1_Chapter 5: Deployment`\n",
    "\n",
    "### Aileah Gotladera\n",
    "-----------------------------------"
   ]
  },
  {
   "cell_type": "code",
   "execution_count": 1,
   "id": "02a3f821-afae-42d0-bb53-2349fe02e032",
   "metadata": {
    "tags": []
   },
   "outputs": [],
   "source": [
    "import pandas as pd\n",
    "import numpy as np\n",
    "import pickle\n",
    "import requests"
   ]
  },
  {
   "cell_type": "code",
   "execution_count": 4,
   "id": "0ad1df83-7678-4dfc-91c5-b08c687ece2c",
   "metadata": {
    "tags": []
   },
   "outputs": [
    {
     "name": "stdout",
     "output_type": "stream",
     "text": [
      "(4521, 17)\n"
     ]
    },
    {
     "data": {
      "text/html": [
       "<div>\n",
       "<style scoped>\n",
       "    .dataframe tbody tr th:only-of-type {\n",
       "        vertical-align: middle;\n",
       "    }\n",
       "\n",
       "    .dataframe tbody tr th {\n",
       "        vertical-align: top;\n",
       "    }\n",
       "\n",
       "    .dataframe thead th {\n",
       "        text-align: right;\n",
       "    }\n",
       "</style>\n",
       "<table border=\"1\" class=\"dataframe\">\n",
       "  <thead>\n",
       "    <tr style=\"text-align: right;\">\n",
       "      <th></th>\n",
       "      <th>age</th>\n",
       "      <th>job</th>\n",
       "      <th>marital</th>\n",
       "      <th>education</th>\n",
       "      <th>default</th>\n",
       "      <th>balance</th>\n",
       "      <th>housing</th>\n",
       "      <th>loan</th>\n",
       "      <th>contact</th>\n",
       "      <th>day</th>\n",
       "      <th>month</th>\n",
       "      <th>duration</th>\n",
       "      <th>campaign</th>\n",
       "      <th>pdays</th>\n",
       "      <th>previous</th>\n",
       "      <th>poutcome</th>\n",
       "      <th>y</th>\n",
       "    </tr>\n",
       "  </thead>\n",
       "  <tbody>\n",
       "    <tr>\n",
       "      <th>0</th>\n",
       "      <td>30</td>\n",
       "      <td>unemployed</td>\n",
       "      <td>married</td>\n",
       "      <td>primary</td>\n",
       "      <td>no</td>\n",
       "      <td>1787</td>\n",
       "      <td>no</td>\n",
       "      <td>no</td>\n",
       "      <td>cellular</td>\n",
       "      <td>19</td>\n",
       "      <td>oct</td>\n",
       "      <td>79</td>\n",
       "      <td>1</td>\n",
       "      <td>-1</td>\n",
       "      <td>0</td>\n",
       "      <td>unknown</td>\n",
       "      <td>no</td>\n",
       "    </tr>\n",
       "    <tr>\n",
       "      <th>1</th>\n",
       "      <td>33</td>\n",
       "      <td>services</td>\n",
       "      <td>married</td>\n",
       "      <td>secondary</td>\n",
       "      <td>no</td>\n",
       "      <td>4789</td>\n",
       "      <td>yes</td>\n",
       "      <td>yes</td>\n",
       "      <td>cellular</td>\n",
       "      <td>11</td>\n",
       "      <td>may</td>\n",
       "      <td>220</td>\n",
       "      <td>1</td>\n",
       "      <td>339</td>\n",
       "      <td>4</td>\n",
       "      <td>failure</td>\n",
       "      <td>no</td>\n",
       "    </tr>\n",
       "    <tr>\n",
       "      <th>2</th>\n",
       "      <td>35</td>\n",
       "      <td>management</td>\n",
       "      <td>single</td>\n",
       "      <td>tertiary</td>\n",
       "      <td>no</td>\n",
       "      <td>1350</td>\n",
       "      <td>yes</td>\n",
       "      <td>no</td>\n",
       "      <td>cellular</td>\n",
       "      <td>16</td>\n",
       "      <td>apr</td>\n",
       "      <td>185</td>\n",
       "      <td>1</td>\n",
       "      <td>330</td>\n",
       "      <td>1</td>\n",
       "      <td>failure</td>\n",
       "      <td>no</td>\n",
       "    </tr>\n",
       "    <tr>\n",
       "      <th>3</th>\n",
       "      <td>30</td>\n",
       "      <td>management</td>\n",
       "      <td>married</td>\n",
       "      <td>tertiary</td>\n",
       "      <td>no</td>\n",
       "      <td>1476</td>\n",
       "      <td>yes</td>\n",
       "      <td>yes</td>\n",
       "      <td>unknown</td>\n",
       "      <td>3</td>\n",
       "      <td>jun</td>\n",
       "      <td>199</td>\n",
       "      <td>4</td>\n",
       "      <td>-1</td>\n",
       "      <td>0</td>\n",
       "      <td>unknown</td>\n",
       "      <td>no</td>\n",
       "    </tr>\n",
       "    <tr>\n",
       "      <th>4</th>\n",
       "      <td>59</td>\n",
       "      <td>blue-collar</td>\n",
       "      <td>married</td>\n",
       "      <td>secondary</td>\n",
       "      <td>no</td>\n",
       "      <td>0</td>\n",
       "      <td>yes</td>\n",
       "      <td>no</td>\n",
       "      <td>unknown</td>\n",
       "      <td>5</td>\n",
       "      <td>may</td>\n",
       "      <td>226</td>\n",
       "      <td>1</td>\n",
       "      <td>-1</td>\n",
       "      <td>0</td>\n",
       "      <td>unknown</td>\n",
       "      <td>no</td>\n",
       "    </tr>\n",
       "  </tbody>\n",
       "</table>\n",
       "</div>"
      ],
      "text/plain": [
       "   age          job  marital  education default  balance housing loan  \\\n",
       "0   30   unemployed  married    primary      no     1787      no   no   \n",
       "1   33     services  married  secondary      no     4789     yes  yes   \n",
       "2   35   management   single   tertiary      no     1350     yes   no   \n",
       "3   30   management  married   tertiary      no     1476     yes  yes   \n",
       "4   59  blue-collar  married  secondary      no        0     yes   no   \n",
       "\n",
       "    contact  day month  duration  campaign  pdays  previous poutcome   y  \n",
       "0  cellular   19   oct        79         1     -1         0  unknown  no  \n",
       "1  cellular   11   may       220         1    339         4  failure  no  \n",
       "2  cellular   16   apr       185         1    330         1  failure  no  \n",
       "3   unknown    3   jun       199         4     -1         0  unknown  no  \n",
       "4   unknown    5   may       226         1     -1         0  unknown  no  "
      ]
     },
     "execution_count": 4,
     "metadata": {},
     "output_type": "execute_result"
    }
   ],
   "source": [
    "# Load the data\n",
    "file = 'C:/Users/LXPH/OneDrive - Lexcode/Documents/ML ZoomCamp/Data/Homework/ch5_Bank.csv'\n",
    "data = pd.read_csv(file, sep=';')\n",
    "print(data.shape)\n",
    "data.head()"
   ]
  },
  {
   "cell_type": "markdown",
   "id": "cab32d6f-8c7d-4eca-97a0-0c90920f82b7",
   "metadata": {},
   "source": [
    "## **`Q1`**"
   ]
  },
  {
   "cell_type": "code",
   "execution_count": 5,
   "id": "a391be6e-dcbc-42ca-ae40-f31e75359c4a",
   "metadata": {
    "tags": []
   },
   "outputs": [
    {
     "name": "stdout",
     "output_type": "stream",
     "text": [
      "pipenv, version 2023.10.3\n"
     ]
    }
   ],
   "source": [
    "!pipenv --version"
   ]
  },
  {
   "attachments": {
    "694dab94-cf82-475b-b5d2-07a264fc7b63.png": {
     "image/png": "[encoded data removed]"
    }
   },
   "cell_type": "markdown",
   "id": "0d183598-fc70-485b-8fd8-4506d489fd60",
   "metadata": {},
   "source": [
    "## **`Q2`**\n",
    "![image.png](attachment:694dab94-cf82-475b-b5d2-07a264fc7b63.png)"
   ]
  },
  {
   "cell_type": "code",
   "execution_count": 6,
   "id": "bbbd3416-94b6-4b78-a3a3-7ec922dfa4b6",
   "metadata": {},
   "outputs": [
    {
     "data": {
      "text/plain": [
       "'sha256:0c275a06c5190c5ce00af0acbb61c06374087949f643ef32d355ece12c4db043'"
      ]
     },
     "execution_count": 6,
     "metadata": {},
     "output_type": "execute_result"
    }
   ],
   "source": [
    "\"sha256:0c275a06c5190c5ce00af0acbb61c06374087949f643ef32d355ece12c4db043\""
   ]
  },
  {
   "cell_type": "markdown",
   "id": "b2952761-568c-44ab-9945-7caf3fc4c6f0",
   "metadata": {},
   "source": [
    "## **`Q3`**"
   ]
  },
  {
   "cell_type": "code",
   "execution_count": 7,
   "id": "2afbbac3-8ac1-41d1-afee-6ebd9222ed05",
   "metadata": {
    "tags": []
   },
   "outputs": [],
   "source": [
    "# PREFIX=\"https://raw.githubusercontent.com/DataTalksClub/machine-learning-zoomcamp/master/cohorts/2023/05-deployment/homework\"\n",
    "# !wget $PREFIX/model1.bin\n",
    "# !wget $PREFIX/dv.bin"
   ]
  },
  {
   "cell_type": "code",
   "execution_count": 8,
   "id": "abbd017f-54de-4d54-b173-c636a54d0283",
   "metadata": {
    "tags": []
   },
   "outputs": [
    {
     "name": "stdout",
     "output_type": "stream",
     "text": [
      "Downloaded: model1.bin\n",
      "Downloaded: dv.bin\n"
     ]
    }
   ],
   "source": [
    "PREFIX = \"https://raw.githubusercontent.com/DataTalksClub/machine-learning-zoomcamp/master/cohorts/2023/05-deployment/homework\"\n",
    "files_to_download = [\"model1.bin\", \"dv.bin\"]\n",
    "\n",
    "for file in files_to_download:\n",
    "    url = f\"{PREFIX}/{file}\"\n",
    "    response = requests.get(url)\n",
    "\n",
    "    if response.status_code == 200:\n",
    "        with open(file, 'wb') as f:\n",
    "            f.write(response.content)\n",
    "        print(f\"Downloaded: {file}\")\n",
    "    else:\n",
    "        print(f\"Failed to download: {url}\")"
   ]
  },
  {
   "cell_type": "code",
   "execution_count": 9,
   "id": "1b62562b-f2c0-4ea3-97a6-c79dfd46b0f2",
   "metadata": {
    "tags": []
   },
   "outputs": [
    {
     "name": "stderr",
     "output_type": "stream",
     "text": [
      "C:\\Users\\LXPH\\anaconda3\\envs\\MachineLearning\\Lib\\site-packages\\sklearn\\base.py:318: UserWarning: Trying to unpickle estimator LogisticRegression from version 1.3.1 when using version 1.2.2. This might lead to breaking code or invalid results. Use at your own risk. For more info please refer to:\n",
      "https://scikit-learn.org/stable/model_persistence.html#security-maintainability-limitations\n",
      "  warnings.warn(\n",
      "C:\\Users\\LXPH\\anaconda3\\envs\\MachineLearning\\Lib\\site-packages\\sklearn\\base.py:318: UserWarning: Trying to unpickle estimator DictVectorizer from version 1.3.1 when using version 1.2.2. This might lead to breaking code or invalid results. Use at your own risk. For more info please refer to:\n",
      "https://scikit-learn.org/stable/model_persistence.html#security-maintainability-limitations\n",
      "  warnings.warn(\n"
     ]
    }
   ],
   "source": [
    "# Write a script for loading these models with pickle\n",
    "with open(\"model1.bin\", \"rb\") as fin:\n",
    "    model = pickle.load(fin)\n",
    "\n",
    "with open(\"dv.bin\", \"rb\") as fin:\n",
    "    dv = pickle.load(fin)"
   ]
  },
  {
   "cell_type": "code",
   "execution_count": 10,
   "id": "f3b5be04-048e-4fed-b8ac-bf8494fc99f3",
   "metadata": {
    "tags": []
   },
   "outputs": [
    {
     "data": {
      "text/plain": [
       "array([[0.09806907, 0.90193093]])"
      ]
     },
     "execution_count": 10,
     "metadata": {},
     "output_type": "execute_result"
    }
   ],
   "source": [
    "client = {\"job\": \"retired\", \"duration\": 445, \"poutcome\": \"success\"}\n",
    "X = dv.transform(client)\n",
    "model.predict_proba(X)"
   ]
  },
  {
   "cell_type": "code",
   "execution_count": 11,
   "id": "be6438b8-6378-4f27-b5ab-03154e9118fa",
   "metadata": {
    "tags": []
   },
   "outputs": [
    {
     "name": "stdout",
     "output_type": "stream",
     "text": [
      "Q3 Answer: 0.901\n"
     ]
    }
   ],
   "source": [
    "print('Q3 Answer: 0.901')"
   ]
  },
  {
   "cell_type": "markdown",
   "id": "f46c7555-309a-4b4a-bae4-e13f40fec115",
   "metadata": {},
   "source": [
    "## **`Q4`**"
   ]
  },
  {
   "cell_type": "code",
   "execution_count": 14,
   "id": "7fa940fc-38b1-4ea2-8f1d-2008deec4aa6",
   "metadata": {
    "tags": []
   },
   "outputs": [
    {
     "name": "stdout",
     "output_type": "stream",
     "text": [
      "Collecting Flask\n",
      "  Obtaining dependency information for Flask from https://files.pythonhosted.org/packages/36/42/015c23096649b908c809c69388a805a571a3bea44362fe87e33fc3afa01f/flask-3.0.0-py3-none-any.whl.metadata\n",
      "  Downloading flask-3.0.0-py3-none-any.whl.metadata (3.6 kB)\n",
      "Collecting Werkzeug>=3.0.0 (from Flask)\n",
      "  Obtaining dependency information for Werkzeug>=3.0.0 from https://files.pythonhosted.org/packages/b6/a5/54b01f663d60d5334f6c9c87c26274e94617a4fd463d812463626423b10d/werkzeug-3.0.0-py3-none-any.whl.metadata\n",
      "  Downloading werkzeug-3.0.0-py3-none-any.whl.metadata (4.1 kB)\n",
      "Requirement already satisfied: Jinja2>=3.1.2 in c:\\users\\lxph\\anaconda3\\envs\\machinelearning\\lib\\site-packages (from Flask) (3.1.2)\n",
      "Collecting itsdangerous>=2.1.2 (from Flask)\n",
      "  Downloading itsdangerous-2.1.2-py3-none-any.whl (15 kB)\n",
      "Requirement already satisfied: click>=8.1.3 in c:\\users\\lxph\\anaconda3\\envs\\machinelearning\\lib\\site-packages (from Flask) (8.1.7)\n",
      "Collecting blinker>=1.6.2 (from Flask)\n",
      "  Obtaining dependency information for blinker>=1.6.2 from https://files.pythonhosted.org/packages/bf/2b/11bcedb7dee4923253a4a21bae3be854bcc4f06295bd827756352016d97c/blinker-1.6.3-py3-none-any.whl.metadata\n",
      "  Downloading blinker-1.6.3-py3-none-any.whl.metadata (1.9 kB)\n",
      "Requirement already satisfied: colorama in c:\\users\\lxph\\anaconda3\\envs\\machinelearning\\lib\\site-packages (from click>=8.1.3->Flask) (0.4.6)\n",
      "Requirement already satisfied: MarkupSafe>=2.0 in c:\\users\\lxph\\anaconda3\\envs\\machinelearning\\lib\\site-packages (from Jinja2>=3.1.2->Flask) (2.1.1)\n",
      "Downloading flask-3.0.0-py3-none-any.whl (99 kB)\n",
      "   ---------------------------------------- 0.0/99.7 kB ? eta -:--:--\n",
      "   ------------ --------------------------- 30.7/99.7 kB 1.4 MB/s eta 0:00:01\n",
      "   ---------------------------------------- 99.7/99.7 kB 1.4 MB/s eta 0:00:00\n",
      "Downloading blinker-1.6.3-py3-none-any.whl (13 kB)\n",
      "Using cached werkzeug-3.0.0-py3-none-any.whl (226 kB)\n",
      "Installing collected packages: Werkzeug, itsdangerous, blinker, Flask\n",
      "Successfully installed Flask-3.0.0 Werkzeug-3.0.0 blinker-1.6.3 itsdangerous-2.1.2\n",
      "Collecting waitress\n",
      "  Downloading waitress-2.1.2-py3-none-any.whl (57 kB)\n",
      "     ---------------------------------------- 0.0/57.7 kB ? eta -:--:--\n",
      "     ------- -------------------------------- 10.2/57.7 kB ? eta -:--:--\n",
      "     ------------- ------------------------ 20.5/57.7 kB 165.2 kB/s eta 0:00:01\n",
      "     -------------------- ----------------- 30.7/57.7 kB 187.9 kB/s eta 0:00:01\n",
      "     -------------------------------------- 57.7/57.7 kB 304.5 kB/s eta 0:00:00\n",
      "Installing collected packages: waitress\n",
      "Successfully installed waitress-2.1.2\n"
     ]
    }
   ],
   "source": [
    "!pip install Flask\n",
    "!pip install waitress"
   ]
  },
  {
   "cell_type": "code",
   "execution_count": 14,
   "id": "33a5642d-7f31-4256-af5f-0c8b43a9730a",
   "metadata": {
    "tags": []
   },
   "outputs": [
    {
     "name": "stdout",
     "output_type": "stream",
     "text": [
      "Churn Probability: 0.13968947052356817\n"
     ]
    }
   ],
   "source": [
    "import requests\n",
    "\n",
    "url = \"http://127.0.0.1:5000/predict\"  # Use the appropriate route\n",
    "client_data = {\"job\": \"unknown\", \"duration\": 270, \"poutcome\": \"failure\"}\n",
    "\n",
    "response = requests.post(url, json=client_data)\n",
    "\n",
    "if response.status_code == 200:\n",
    "    data = response.json()\n",
    "    churn_probability = data.get(\"churn_probability\")\n",
    "    print(f\"Churn Probability: {churn_probability}\")\n",
    "else:\n",
    "    print(\"Failed to make the prediction.\")\n"
   ]
  },
  {
   "attachments": {
    "ddd2f2f2-d47f-4bd7-a959-15104b1ce35f.png": {
     "image/png": "[encoded data removed]"
    }
   },
   "cell_type": "markdown",
   "id": "5f00bbb9-29ab-418c-942e-6954c30f0c44",
   "metadata": {},
   "source": [
    "## **`Q5`**\n",
    "![image.png](attachment:ddd2f2f2-d47f-4bd7-a959-15104b1ce35f.png)"
   ]
  },
  {
   "cell_type": "code",
   "execution_count": 15,
   "id": "d0e15476-e730-4548-b9aa-237bbb5995d5",
   "metadata": {
    "tags": []
   },
   "outputs": [
    {
     "name": "stdout",
     "output_type": "stream",
     "text": [
      "Q5 Answer: 147MB\n"
     ]
    }
   ],
   "source": [
    "print('Q5 Answer: 147MB')"
   ]
  },
  {
   "cell_type": "markdown",
   "id": "86737459-1643-4c3b-9df6-4605214845c7",
   "metadata": {},
   "source": [
    "## **`Q6`**"
   ]
  },
  {
   "cell_type": "code",
   "execution_count": 16,
   "id": "e8a7645a-a09a-41f2-8b1a-b99eb286d3c3",
   "metadata": {
    "tags": []
   },
   "outputs": [
    {
     "name": "stdout",
     "output_type": "stream",
     "text": [
      "Q6 Answer: 0.902\n"
     ]
    }
   ],
   "source": [
    "print('Q6 Answer: 0.902')"
   ]
  },
  {
   "cell_type": "code",
   "execution_count": null,
   "id": "ea2a66ba-f502-41c6-987f-2ee35797ac77",
   "metadata": {},
   "outputs": [],
   "source": []
  }
 ],
 "metadata": {
  "kernelspec": {
   "display_name": "Python [conda env:MachineLearning]",
   "language": "python",
   "name": "conda-env-MachineLearning-py"
  },
  "language_info": {
   "codemirror_mode": {
    "name": "ipython",
    "version": 3
   },
   "file_extension": ".py",
   "mimetype": "text/x-python",
   "name": "python",
   "nbconvert_exporter": "python",
   "pygments_lexer": "ipython3",
   "version": "3.11.5"
  }
 },
 "nbformat": 4,
 "nbformat_minor": 5
}
